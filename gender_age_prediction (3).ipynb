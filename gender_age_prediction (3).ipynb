{
  "cells": [
    {
      "cell_type": "markdown",
      "metadata": {
        "id": "o3wr_ikDMqN3"
      },
      "source": [
        "## 1. Импорт необходимых библиотек для загрузки данных и работы с ними"
      ]
    },
    {
      "cell_type": "markdown",
      "metadata": {
        "id": "xH1n-91uMqN5"
      },
      "source": [
        "- Numpy: для работы с данными, их очистки, форматирования нужным образом и удаления неактуальных данных.\n",
        "- Polars: для чтения csv-файлов набора данных. (альтернатива pandas)\n",
        "- Matplotlib: для построения графиков и отображения изображений в консоли colab вместе с seaborn.\n",
        "- Opencv и PIL: для работы с изображениями, изменения их размера, форматирования для модели и прочего."
      ]
    },
    {
      "cell_type": "code",
      "execution_count": 1,
      "metadata": {
        "id": "mnZakzxDMqN5"
      },
      "outputs": [],
      "source": [
        "import numpy as np\n",
        "import polars as pl\n",
        "import matplotlib.pyplot as plt\n",
        "import seaborn as sns\n",
        "import cv2\n",
        "from PIL import Image\n",
        "plt.style.use('ggplot')\n"
      ]
    },
    {
      "cell_type": "markdown",
      "metadata": {
        "id": "4mtZzOhHMqN6"
      },
      "source": [
        "## 2. Загрузка датасета с лицами"
      ]
    },
    {
      "cell_type": "markdown",
      "metadata": {
        "id": "nxF-nS_goDMg"
      },
      "source": [
        "### * Скачивание датасета для гугл колаба"
      ]
    },
    {
      "cell_type": "code",
      "execution_count": null,
      "metadata": {
        "colab": {
          "base_uri": "https://localhost:8080/"
        },
        "id": "h1vQOBk2S5aM",
        "outputId": "2cd2bc1c-18f6-42ac-8fcd-7ef9b7f07b83"
      },
      "outputs": [],
      "source": [
        "!kaggle datasets download -d ttungl/adience-benchmark-gender-and-age-classification --force\n",
        "!unzip adience-benchmark-gender-and-age-classification.zip\n"
      ]
    },
    {
      "cell_type": "markdown",
      "metadata": {
        "id": "kp5LHAp4oDMh"
      },
      "source": [
        "### Загрузка датасета в DataFrame"
      ]
    },
    {
      "cell_type": "code",
      "execution_count": null,
      "metadata": {
        "id": "LKRu52x8MqN6"
      },
      "outputs": [],
      "source": [
        "data_dir = \"\"  # папка где лежит датасет\n",
        "\n",
        "# загрузка данных\n",
        "fold0 = pl.read_csv(data_dir +\n",
        "    \"AdienceBenchmarkGenderAndAgeClassification/fold_0_data.txt\", separator=\"\\t\")\n",
        "fold1 = pl.read_csv(data_dir +\n",
        "    \"AdienceBenchmarkGenderAndAgeClassification/fold_1_data.txt\", separator=\"\\t\")\n",
        "fold2 = pl.read_csv(data_dir +\n",
        "    \"AdienceBenchmarkGenderAndAgeClassification/fold_2_data.txt\", separator=\"\\t\")\n",
        "fold3 = pl.read_csv(data_dir +\n",
        "    \"AdienceBenchmarkGenderAndAgeClassification/fold_3_data.txt\", separator=\"\\t\")\n",
        "fold4 = pl.read_csv(data_dir + \"AdienceBenchmarkGenderAndAgeClassification/fold_4_data.txt\", separator = \"\\t\")\n"
      ]
    },
    {
      "cell_type": "code",
      "execution_count": null,
      "metadata": {
        "colab": {
          "base_uri": "https://localhost:8080/",
          "height": 398
        },
        "id": "0eKQJ9_VMqN7",
        "outputId": "d3dd8dcd-b03e-450e-ea72-5c7b4b4f5f9b"
      },
      "outputs": [
        {
          "name": "stdout",
          "output_type": "stream",
          "text": [
            "(19370, 12)\n"
          ]
        },
        {
          "data": {
            "text/html": [
              "<div><style>\n",
              ".dataframe > thead > tr,\n",
              ".dataframe > tbody > tr {\n",
              "  text-align: right;\n",
              "  white-space: pre-wrap;\n",
              "}\n",
              "</style>\n",
              "<small>shape: (9, 13)</small><table border=\"1\" class=\"dataframe\"><thead><tr><th>describe</th><th>user_id</th><th>original_image</th><th>face_id</th><th>age</th><th>gender</th><th>x</th><th>y</th><th>dx</th><th>dy</th><th>tilt_ang</th><th>fiducial_yaw_angle</th><th>fiducial_score</th></tr><tr><td>str</td><td>str</td><td>str</td><td>f64</td><td>str</td><td>str</td><td>f64</td><td>f64</td><td>f64</td><td>f64</td><td>f64</td><td>f64</td><td>f64</td></tr></thead><tbody><tr><td>&quot;count&quot;</td><td>&quot;19370&quot;</td><td>&quot;19370&quot;</td><td>19370.0</td><td>&quot;19370&quot;</td><td>&quot;18591&quot;</td><td>19370.0</td><td>19370.0</td><td>19370.0</td><td>19370.0</td><td>19370.0</td><td>19370.0</td><td>19370.0</td></tr><tr><td>&quot;null_count&quot;</td><td>&quot;0&quot;</td><td>&quot;0&quot;</td><td>0.0</td><td>&quot;0&quot;</td><td>&quot;779&quot;</td><td>0.0</td><td>0.0</td><td>0.0</td><td>0.0</td><td>0.0</td><td>0.0</td><td>0.0</td></tr><tr><td>&quot;mean&quot;</td><td>null</td><td>null</td><td>1023.858906</td><td>null</td><td>null</td><td>949.670212</td><td>675.65937</td><td>633.042437</td><td>629.692463</td><td>-12.405111</td><td>3.128549</td><td>72.266598</td></tr><tr><td>&quot;std&quot;</td><td>null</td><td>null</td><td>645.385251</td><td>null</td><td>null</td><td>667.06015</td><td>429.918002</td><td>440.409036</td><td>426.296233</td><td>73.430214</td><td>15.658667</td><td>38.799247</td></tr><tr><td>&quot;min&quot;</td><td>&quot;100003415@N08&quot;</td><td>&quot;10009111604_04…</td><td>1.0</td><td>&quot;(0, 2)&quot;</td><td>&quot;f&quot;</td><td>0.0</td><td>0.0</td><td>80.0</td><td>80.0</td><td>-205.0</td><td>-45.0</td><td>5.0</td></tr><tr><td>&quot;25%&quot;</td><td>null</td><td>null</td><td>486.0</td><td>null</td><td>null</td><td>441.0</td><td>333.0</td><td>324.0</td><td>325.0</td><td>-80.0</td><td>0.0</td><td>42.0</td></tr><tr><td>&quot;50%&quot;</td><td>null</td><td>null</td><td>980.0</td><td>null</td><td>null</td><td>852.0</td><td>653.0</td><td>517.0</td><td>517.0</td><td>-5.0</td><td>0.0</td><td>70.0</td></tr><tr><td>&quot;75%&quot;</td><td>null</td><td>null</td><td>1526.0</td><td>null</td><td>null</td><td>1359.0</td><td>964.0</td><td>778.0</td><td>778.0</td><td>5.0</td><td>0.0</td><td>98.0</td></tr><tr><td>&quot;max&quot;</td><td>&quot;9965452@N08&quot;</td><td>&quot;9999085413_662…</td><td>2284.0</td><td>&quot;None&quot;</td><td>&quot;u&quot;</td><td>10024.0</td><td>2752.0</td><td>3264.0</td><td>3225.0</td><td>365.0</td><td>45.0</td><td>221.0</td></tr></tbody></table></div>"
            ],
            "text/plain": [
              "shape: (9, 13)\n",
              "┌───────────┬───────────┬───────────┬───────────┬───┬───────────┬───────────┬───────────┬──────────┐\n",
              "│ describe  ┆ user_id   ┆ original_ ┆ face_id   ┆ … ┆ dy        ┆ tilt_ang  ┆ fiducial_ ┆ fiducial │\n",
              "│ ---       ┆ ---       ┆ image     ┆ ---       ┆   ┆ ---       ┆ ---       ┆ yaw_angle ┆ _score   │\n",
              "│ str       ┆ str       ┆ ---       ┆ f64       ┆   ┆ f64       ┆ f64       ┆ ---       ┆ ---      │\n",
              "│           ┆           ┆ str       ┆           ┆   ┆           ┆           ┆ f64       ┆ f64      │\n",
              "╞═══════════╪═══════════╪═══════════╪═══════════╪═══╪═══════════╪═══════════╪═══════════╪══════════╡\n",
              "│ count     ┆ 19370     ┆ 19370     ┆ 19370.0   ┆ … ┆ 19370.0   ┆ 19370.0   ┆ 19370.0   ┆ 19370.0  │\n",
              "│ null_coun ┆ 0         ┆ 0         ┆ 0.0       ┆ … ┆ 0.0       ┆ 0.0       ┆ 0.0       ┆ 0.0      │\n",
              "│ t         ┆           ┆           ┆           ┆   ┆           ┆           ┆           ┆          │\n",
              "│ mean      ┆ null      ┆ null      ┆ 1023.8589 ┆ … ┆ 629.69246 ┆ -12.40511 ┆ 3.128549  ┆ 72.26659 │\n",
              "│           ┆           ┆           ┆ 06        ┆   ┆ 3         ┆ 1         ┆           ┆ 8        │\n",
              "│ std       ┆ null      ┆ null      ┆ 645.38525 ┆ … ┆ 426.29623 ┆ 73.430214 ┆ 15.658667 ┆ 38.79924 │\n",
              "│           ┆           ┆           ┆ 1         ┆   ┆ 3         ┆           ┆           ┆ 7        │\n",
              "│ min       ┆ 100003415 ┆ 100091116 ┆ 1.0       ┆ … ┆ 80.0      ┆ -205.0    ┆ -45.0     ┆ 5.0      │\n",
              "│           ┆ @N08      ┆ 04_04818a ┆           ┆   ┆           ┆           ┆           ┆          │\n",
              "│           ┆           ┆ a8f1_o.jp ┆           ┆   ┆           ┆           ┆           ┆          │\n",
              "│           ┆           ┆ g         ┆           ┆   ┆           ┆           ┆           ┆          │\n",
              "│ 25%       ┆ null      ┆ null      ┆ 486.0     ┆ … ┆ 325.0     ┆ -80.0     ┆ 0.0       ┆ 42.0     │\n",
              "│ 50%       ┆ null      ┆ null      ┆ 980.0     ┆ … ┆ 517.0     ┆ -5.0      ┆ 0.0       ┆ 70.0     │\n",
              "│ 75%       ┆ null      ┆ null      ┆ 1526.0    ┆ … ┆ 778.0     ┆ 5.0       ┆ 0.0       ┆ 98.0     │\n",
              "│ max       ┆ 9965452@N ┆ 999908541 ┆ 2284.0    ┆ … ┆ 3225.0    ┆ 365.0     ┆ 45.0      ┆ 221.0    │\n",
              "│           ┆ 08        ┆ 3_662fb85 ┆           ┆   ┆           ┆           ┆           ┆          │\n",
              "│           ┆           ┆ eb9_o.jpg ┆           ┆   ┆           ┆           ┆           ┆          │\n",
              "└───────────┴───────────┴───────────┴───────────┴───┴───────────┴───────────┴───────────┴──────────┘"
            ]
          },
          "execution_count": 3,
          "metadata": {},
          "output_type": "execute_result"
        }
      ],
      "source": [
        "# соединяем фолды в один DataFrame\n",
        "total_data = pl.concat([fold0, fold1, fold2, fold3, fold4])\n",
        "\n",
        "print(total_data.shape)\n",
        "\n",
        "total_data.describe()\n"
      ]
    },
    {
      "cell_type": "code",
      "execution_count": null,
      "metadata": {
        "colab": {
          "base_uri": "https://localhost:8080/",
          "height": 255
        },
        "id": "u-S3yq-rMqN7",
        "outputId": "3dc3e93c-e6eb-4f55-b3e4-4461ee75723b"
      },
      "outputs": [
        {
          "data": {
            "text/html": [
              "<div><style>\n",
              ".dataframe > thead > tr,\n",
              ".dataframe > tbody > tr {\n",
              "  text-align: right;\n",
              "  white-space: pre-wrap;\n",
              "}\n",
              "</style>\n",
              "<small>shape: (5, 12)</small><table border=\"1\" class=\"dataframe\"><thead><tr><th>user_id</th><th>original_image</th><th>face_id</th><th>age</th><th>gender</th><th>x</th><th>y</th><th>dx</th><th>dy</th><th>tilt_ang</th><th>fiducial_yaw_angle</th><th>fiducial_score</th></tr><tr><td>str</td><td>str</td><td>i64</td><td>str</td><td>str</td><td>i64</td><td>i64</td><td>i64</td><td>i64</td><td>i64</td><td>i64</td><td>i64</td></tr></thead><tbody><tr><td>&quot;10148140@N07&quot;</td><td>&quot;9489576238_255…</td><td>1957</td><td>&quot;(15, 20)&quot;</td><td>&quot;f&quot;</td><td>305</td><td>116</td><td>163</td><td>165</td><td>10</td><td>0</td><td>59</td></tr><tr><td>&quot;100346410@N05&quot;</td><td>&quot;11854611285_8a…</td><td>2067</td><td>&quot;(38, 43)&quot;</td><td>&quot;m&quot;</td><td>1051</td><td>610</td><td>383</td><td>382</td><td>0</td><td>0</td><td>48</td></tr><tr><td>&quot;114841417@N06&quot;</td><td>&quot;12101038944_00…</td><td>491</td><td>&quot;45&quot;</td><td>&quot;m&quot;</td><td>599</td><td>216</td><td>612</td><td>612</td><td>0</td><td>0</td><td>29</td></tr><tr><td>&quot;20254529@N04&quot;</td><td>&quot;9934610055_274…</td><td>68</td><td>&quot;(38, 43)&quot;</td><td>&quot;m&quot;</td><td>0</td><td>336</td><td>344</td><td>413</td><td>5</td><td>-15</td><td>25</td></tr><tr><td>&quot;11008464@N06&quot;</td><td>&quot;9495805618_4f5…</td><td>970</td><td>&quot;(0, 2)&quot;</td><td>&quot;f&quot;</td><td>0</td><td>31</td><td>2017</td><td>2295</td><td>10</td><td>0</td><td>138</td></tr></tbody></table></div>"
            ],
            "text/plain": [
              "shape: (5, 12)\n",
              "┌─────────────┬─────────────┬─────────┬──────────┬───┬──────┬──────────┬─────────────┬─────────────┐\n",
              "│ user_id     ┆ original_im ┆ face_id ┆ age      ┆ … ┆ dy   ┆ tilt_ang ┆ fiducial_ya ┆ fiducial_sc │\n",
              "│ ---         ┆ age         ┆ ---     ┆ ---      ┆   ┆ ---  ┆ ---      ┆ w_angle     ┆ ore         │\n",
              "│ str         ┆ ---         ┆ i64     ┆ str      ┆   ┆ i64  ┆ i64      ┆ ---         ┆ ---         │\n",
              "│             ┆ str         ┆         ┆          ┆   ┆      ┆          ┆ i64         ┆ i64         │\n",
              "╞═════════════╪═════════════╪═════════╪══════════╪═══╪══════╪══════════╪═════════════╪═════════════╡\n",
              "│ 10148140@N0 ┆ 9489576238_ ┆ 1957    ┆ (15, 20) ┆ … ┆ 165  ┆ 10       ┆ 0           ┆ 59          │\n",
              "│ 7           ┆ 2557028727_ ┆         ┆          ┆   ┆      ┆          ┆             ┆             │\n",
              "│             ┆ o.jpg       ┆         ┆          ┆   ┆      ┆          ┆             ┆             │\n",
              "│ 100346410@N ┆ 11854611285 ┆ 2067    ┆ (38, 43) ┆ … ┆ 382  ┆ 0        ┆ 0           ┆ 48          │\n",
              "│ 05          ┆ _8a54135acb ┆         ┆          ┆   ┆      ┆          ┆             ┆             │\n",
              "│             ┆ _o.jpg      ┆         ┆          ┆   ┆      ┆          ┆             ┆             │\n",
              "│ 114841417@N ┆ 12101038944 ┆ 491     ┆ 45       ┆ … ┆ 612  ┆ 0        ┆ 0           ┆ 29          │\n",
              "│ 06          ┆ _0067fec07b ┆         ┆          ┆   ┆      ┆          ┆             ┆             │\n",
              "│             ┆ _o.jpg      ┆         ┆          ┆   ┆      ┆          ┆             ┆             │\n",
              "│ 20254529@N0 ┆ 9934610055_ ┆ 68      ┆ (38, 43) ┆ … ┆ 413  ┆ 5        ┆ -15         ┆ 25          │\n",
              "│ 4           ┆ 2749028eca_ ┆         ┆          ┆   ┆      ┆          ┆             ┆             │\n",
              "│             ┆ o.jpg       ┆         ┆          ┆   ┆      ┆          ┆             ┆             │\n",
              "│ 11008464@N0 ┆ 9495805618_ ┆ 970     ┆ (0, 2)   ┆ … ┆ 2295 ┆ 10       ┆ 0           ┆ 138         │\n",
              "│ 6           ┆ 4f5494fbfe_ ┆         ┆          ┆   ┆      ┆          ┆             ┆             │\n",
              "│             ┆ o.jpg       ┆         ┆          ┆   ┆      ┆          ┆             ┆             │\n",
              "└─────────────┴─────────────┴─────────┴──────────┴───┴──────┴──────────┴─────────────┴─────────────┘"
            ]
          },
          "execution_count": 4,
          "metadata": {},
          "output_type": "execute_result"
        }
      ],
      "source": [
        "# 5 рандомных записей из датасета\n",
        "total_data.sample(5)\n"
      ]
    },
    {
      "cell_type": "code",
      "execution_count": null,
      "metadata": {
        "colab": {
          "base_uri": "https://localhost:8080/",
          "height": 668
        },
        "id": "FAspQPcqMqN8",
        "outputId": "66100e12-ca55-49dc-cb54-f6b975b59557"
      },
      "outputs": [
        {
          "name": "stdout",
          "output_type": "stream",
          "text": [
            "shape: (3, 2)\n",
            "┌────────┬───────┐\n",
            "│ gender ┆ count │\n",
            "│ ---    ┆ ---   │\n",
            "│ str    ┆ u32   │\n",
            "╞════════╪═══════╡\n",
            "│ f      ┆ 9372  │\n",
            "│ u      ┆ 1099  │\n",
            "│ m      ┆ 8120  │\n",
            "└────────┴───────┘\n"
          ]
        },
        {
          "data": {
            "text/plain": [
              "Text(0, 0.5, 'Кол-во записей')"
            ]
          },
          "execution_count": 5,
          "metadata": {},
          "output_type": "execute_result"
        },
        {
          "data": {
            "image/png": "[encoded data removed]",
            "text/plain": [
              "<Figure size 640x480 with 1 Axes>"
            ]
          },
          "metadata": {},
          "output_type": "display_data"
        }
      ],
      "source": [
        "# Получаем подсчет значений для колонки \"gender\"\n",
        "gender_counts = total_data[\"gender\"].value_counts().drop_nulls()\n",
        "print(gender_counts)\n",
        "# Строим график\n",
        "plt.bar(gender_counts[\"gender\"], gender_counts[\"count\"], align='center', alpha=0.5)\n",
        "plt.title(\"Распределение полов\")\n",
        "plt.xlabel(\"Пол\")\n",
        "plt.ylabel(\"Кол-во записей\")\n"
      ]
    },
    {
      "cell_type": "markdown",
      "metadata": {
        "id": "_WQqHyq_oDMj"
      },
      "source": [
        "Выходит, что датасет состоит из 9372 фото женщин, 8120 фото мужчин и 1099  фотографи, где пол неизвестен (эти фотографии придется удалить, чтобы свести задачу модели к бинарной класификации)"
      ]
    },
    {
      "cell_type": "code",
      "execution_count": null,
      "metadata": {
        "colab": {
          "base_uri": "https://localhost:8080/",
          "height": 515
        },
        "id": "J0Lu18iJMqN8",
        "outputId": "4e546c0c-c623-40e4-b2e2-2ee7436767cf"
      },
      "outputs": [
        {
          "data": {
            "text/plain": [
              "Text(0.5, 0, 'Кол-во записей')"
            ]
          },
          "execution_count": 6,
          "metadata": {},
          "output_type": "execute_result"
        },
        {
          "data": {
            "image/png": "[encoded data removed]",
            "text/plain": [
              "<Figure size 640x480 with 1 Axes>"
            ]
          },
          "metadata": {},
          "output_type": "display_data"
        }
      ],
      "source": [
        "# Получаем подсчет значений для колонки \"age\"\n",
        "age_counts = total_data[\"age\"].value_counts().drop_nulls().sort(\"age\")\n",
        "\n",
        "# Строим график\n",
        "plt.barh(age_counts[\"age\"], age_counts[\"count\"],\n",
        "        align='center', alpha=0.5)\n",
        "plt.xticks(rotation=90)\n",
        "plt.yticks(fontsize=8)\n",
        "plt.title(\"Распределение по возрасту\")\n",
        "plt.ylabel(\"Возраст\")\n",
        "plt.xlabel(\"Кол-во записей\")\n"
      ]
    },
    {
      "cell_type": "markdown",
      "metadata": {
        "id": "1Acs9b0CoDMj"
      },
      "source": [
        "Видно, что данные о возрасте имеет разный формат и даже повторяются (также есть фотографии без данных о возрасте). Далее нужно будет привести эти признаки к единому виду, так как это будет целевой переменной для модели"
      ]
    },
    {
      "cell_type": "markdown",
      "metadata": {
        "id": "Ryawor6VMqN8"
      },
      "source": [
        "## 3. Приводим данные к нужным значениям\n"
      ]
    },
    {
      "cell_type": "markdown",
      "metadata": {
        "id": "uy0a0zgFoDMj"
      },
      "source": [
        "Выбираем только нужные столбцы => целевые переменные для моделей (age и gender) + динамически формируем путь к картинке из датасета"
      ]
    },
    {
      "cell_type": "code",
      "execution_count": null,
      "metadata": {
        "colab": {
          "base_uri": "https://localhost:8080/"
        },
        "id": "tgbM36s5MqN9",
        "outputId": "2e6a7202-9fce-40eb-8b06-c25b10666367"
      },
      "outputs": [
        {
          "name": "stdout",
          "output_type": "stream",
          "text": [
            "shape: (3, 3)\n",
            "┌──────────┬────────┬───────────────────────────────────┐\n",
            "│ age      ┆ gender ┆ img_path                          │\n",
            "│ ---      ┆ ---    ┆ ---                               │\n",
            "│ str      ┆ str    ┆ str                               │\n",
            "╞══════════╪════════╪═══════════════════════════════════╡\n",
            "│ (38, 43) ┆ m      ┆ AdienceBenchmarkGenderAndAgeClas… │\n",
            "│ (0, 2)   ┆ m      ┆ AdienceBenchmarkGenderAndAgeClas… │\n",
            "│ None     ┆ null   ┆ AdienceBenchmarkGenderAndAgeClas… │\n",
            "└──────────┴────────┴───────────────────────────────────┘\n"
          ]
        }
      ],
      "source": [
        "\n",
        "imp_data = total_data[['age', 'gender']].clone()\n",
        "\n",
        "img_path = []\n",
        "for row in total_data.iter_rows(named=True):\n",
        "    path = data_dir + \"AdienceBenchmarkGenderAndAgeClassification/faces/\" + row[\"user_id\"] + \"/coarse_tilt_aligned_face.\" + str(row[\"face_id\"])+\".\"+row[\"original_image\"]\n",
        "    img_path.append(path)\n",
        "\n",
        "imp_data = imp_data.with_columns(pl.Series(\"img_path\", img_path))\n",
        "print(imp_data.sample(3))\n"
      ]
    },
    {
      "cell_type": "markdown",
      "metadata": {
        "id": "1W_0Jb-OMqN9"
      },
      "source": [
        "Так как возраст имеет разные и неупорядоченные значения, нужно привести к единому виду. \\\n",
        "Создаем словарь, по которому меняем значения из датасета на нужные нам классы возрастов. Модель для предсказания возраста будет решать задачу класификации, а не линейной регрессии, так она должна быть точнее, нежели модель, которая будет предсказывать точный возраст. \\\n",
        "age_mapping = {\"значения из датасета\": \"один из выбранных классов, ... }\n",
        "- ['0-2']\n",
        "- ['4-7']\n",
        "- ['8-14']\n",
        "- ['15-20']\n",
        "- ['25-32']\n",
        "- ['38-43']\n",
        "- ['48-63']\n",
        "- ['60+']"
      ]
    },
    {
      "cell_type": "code",
      "execution_count": null,
      "metadata": {
        "id": "4oyq5CLRMqN-"
      },
      "outputs": [],
      "source": [
        "age_mapping_dict = {'(0, 2)': '0-2',\n",
        "                    '2': '0-2',\n",
        "                    '3': '0-2',\n",
        "                    '(4, 6)': '4-6',\n",
        "                    '(8, 12)': '8-13',\n",
        "                    '13': '8-13',\n",
        "                    '22': '15-20',\n",
        "                    '(8, 23)': '15-20',\n",
        "                    '23': '25-32',\n",
        "                    '(15, 20)': '15-20',\n",
        "                    '(25, 32)': '25-32',\n",
        "                    '(27, 32)': '25-32',\n",
        "                    '32': '25-32',\n",
        "                    '34': '25-32',\n",
        "                    '29': '25-32',\n",
        "                    '(38, 42)': '38-43',\n",
        "                    '35': '38-43',\n",
        "                    '36': '38-43',\n",
        "                    '42': '48-53',\n",
        "                    '45': '38-43',\n",
        "                    '(38, 43)': '38-43',\n",
        "                    '(38, 48)': '48-53',\n",
        "                    '46': '48-53',\n",
        "                    '(48, 53)': '48-53',\n",
        "                    '55': '48-53',\n",
        "                    '56': '48-53',\n",
        "                    '(60, 100)': '60+',\n",
        "                    '57': '60+',\n",
        "                    '58': '60+'}\n",
        "\n",
        "# Создаем функцию для маппинга возраста\n",
        "def map_age(age):\n",
        "    if age == 'None':\n",
        "        return None\n",
        "    return age_mapping_dict[age]\n",
        "\n",
        "\n",
        "# Применяем маппинг и фильтрацию\n",
        "imp_data = imp_data.with_columns([\n",
        "    pl.col('age').map_elements(map_age).alias('age')\n",
        "\n",
        "]).filter(\n",
        "\n",
        "    pl.col('age').is_not_null()\n",
        ")\n"
      ]
    },
    {
      "cell_type": "code",
      "execution_count": null,
      "metadata": {
        "colab": {
          "base_uri": "https://localhost:8080/"
        },
        "id": "SWocxjJDMqN-",
        "outputId": "bc69f04c-dd57-40f0-97ff-2c64dba5399c"
      },
      "outputs": [
        {
          "name": "stdout",
          "output_type": "stream",
          "text": [
            "shape: (8, 2)\n",
            "┌───────┬───────┐\n",
            "│ age   ┆ count │\n",
            "│ ---   ┆ ---   │\n",
            "│ str   ┆ u32   │\n",
            "╞═══════╪═══════╡\n",
            "│ 25-32 ┆ 5296  │\n",
            "│ 38-43 ┆ 2776  │\n",
            "│ 0-2   ┆ 2509  │\n",
            "│ 8-13  ┆ 2292  │\n",
            "│ 4-6   ┆ 2140  │\n",
            "│ 15-20 ┆ 1792  │\n",
            "│ 48-53 ┆ 916   │\n",
            "│ 60+   ┆ 901   │\n",
            "└───────┴───────┘\n",
            "18622\n"
          ]
        }
      ],
      "source": [
        "# Подсчет значений в столбце age\n",
        "age_counts = imp_data[\"age\"].value_counts(sort=True)\n",
        "\n",
        "print(age_counts)\n",
        "print(age_counts[\"count\"].sum())\n"
      ]
    },
    {
      "cell_type": "markdown",
      "metadata": {
        "id": "k8iIqrskMqN-"
      },
      "source": [
        "Отбросываем записи, которые не имеют известного пола, поскольку мы не сможем использовать их для обучения нашей модели."
      ]
    },
    {
      "cell_type": "code",
      "execution_count": null,
      "metadata": {
        "colab": {
          "base_uri": "https://localhost:8080/"
        },
        "id": "LwvHFAcDMqN-",
        "outputId": "13c4a02a-8fa5-4b3e-b3d7-630eecc3b80d"
      },
      "outputs": [
        {
          "name": "stdout",
          "output_type": "stream",
          "text": [
            "shape: (2, 2)\n",
            "┌────────┬───────┐\n",
            "│ gender ┆ count │\n",
            "│ ---    ┆ ---   │\n",
            "│ str    ┆ u32   │\n",
            "╞════════╪═══════╡\n",
            "│ f      ┆ 9332  │\n",
            "│ m      ┆ 8120  │\n",
            "└────────┴───────┘\n",
            "17452\n",
            "shape: (3, 3)\n",
            "┌───────┬────────┬───────────────────────────────────┐\n",
            "│ age   ┆ gender ┆ img_path                          │\n",
            "│ ---   ┆ ---    ┆ ---                               │\n",
            "│ str   ┆ str    ┆ str                               │\n",
            "╞═══════╪════════╪═══════════════════════════════════╡\n",
            "│ 38-43 ┆ f      ┆ AdienceBenchmarkGenderAndAgeClas… │\n",
            "│ 4-6   ┆ f      ┆ AdienceBenchmarkGenderAndAgeClas… │\n",
            "│ 25-32 ┆ m      ┆ AdienceBenchmarkGenderAndAgeClas… │\n",
            "└───────┴────────┴───────────────────────────────────┘\n"
          ]
        }
      ],
      "source": [
        "# Удаление строк с отсутствующими значениями\n",
        "imp_data = imp_data.drop_nulls()\n",
        "\n",
        "# Фильтрация данных, исключая строки, где gender равно 'u'\n",
        "clean_data = imp_data.filter(pl.col(\"gender\") != \"u\")\n",
        "\n",
        "gender_counts = clean_data[\"gender\"].value_counts(sort=True)\n",
        "print(gender_counts)\n",
        "print(gender_counts[\"count\"].sum())\n",
        "\n",
        "# Вывод информации о DataFrame\n",
        "print(clean_data.sample(3))\n"
      ]
    },
    {
      "cell_type": "markdown",
      "metadata": {
        "id": "9mjrsWNGMqN-"
      },
      "source": [
        "Меняем метки пола на 0 и 1 - более понятный вид для модели, где 0 - это женщина, 1 - мужчина"
      ]
    },
    {
      "cell_type": "code",
      "execution_count": null,
      "metadata": {
        "colab": {
          "base_uri": "https://localhost:8080/"
        },
        "id": "1zYM_9YpMqN_",
        "outputId": "d5e1b9d6-8f20-4d6e-d870-de9303c8bbce"
      },
      "outputs": [
        {
          "name": "stdout",
          "output_type": "stream",
          "text": [
            "shape: (5, 3)\n",
            "┌───────┬────────┬───────────────────────────────────┐\n",
            "│ age   ┆ gender ┆ img_path                          │\n",
            "│ ---   ┆ ---    ┆ ---                               │\n",
            "│ str   ┆ i32    ┆ str                               │\n",
            "╞═══════╪════════╪═══════════════════════════════════╡\n",
            "│ 25-32 ┆ 0      ┆ AdienceBenchmarkGenderAndAgeClas… │\n",
            "│ 38-43 ┆ 0      ┆ AdienceBenchmarkGenderAndAgeClas… │\n",
            "│ 4-6   ┆ 0      ┆ AdienceBenchmarkGenderAndAgeClas… │\n",
            "│ 25-32 ┆ 0      ┆ AdienceBenchmarkGenderAndAgeClas… │\n",
            "│ 8-13  ┆ 1      ┆ AdienceBenchmarkGenderAndAgeClas… │\n",
            "└───────┴────────┴───────────────────────────────────┘\n"
          ]
        }
      ],
      "source": [
        "clean_data = clean_data.with_columns(\n",
        "    gender=pl.when(pl.col('gender') == 'f').then(0)\n",
        "    .otherwise(1)\n",
        ")\n",
        "\n",
        "print(clean_data.sample(5))\n"
      ]
    },
    {
      "cell_type": "markdown",
      "metadata": {
        "id": "RJv5i_9jMqN_"
      },
      "source": [
        "Меняем также метки возраста на 0-7 (это будут метки класса целевой переменной для модели)"
      ]
    },
    {
      "cell_type": "code",
      "execution_count": null,
      "metadata": {
        "colab": {
          "base_uri": "https://localhost:8080/"
        },
        "id": "6wIjOsVPMqN_",
        "outputId": "6c4d5b6a-be2f-4f9e-c3bf-edaa2f9cc574"
      },
      "outputs": [
        {
          "name": "stdout",
          "output_type": "stream",
          "text": [
            "shape: (5, 3)\n",
            "┌─────┬────────┬───────────────────────────────────┐\n",
            "│ age ┆ gender ┆ img_path                          │\n",
            "│ --- ┆ ---    ┆ ---                               │\n",
            "│ i32 ┆ i32    ┆ str                               │\n",
            "╞═════╪════════╪═══════════════════════════════════╡\n",
            "│ 4   ┆ 1      ┆ AdienceBenchmarkGenderAndAgeClas… │\n",
            "│ 5   ┆ 0      ┆ AdienceBenchmarkGenderAndAgeClas… │\n",
            "│ 1   ┆ 0      ┆ AdienceBenchmarkGenderAndAgeClas… │\n",
            "│ 2   ┆ 0      ┆ AdienceBenchmarkGenderAndAgeClas… │\n",
            "│ 3   ┆ 0      ┆ AdienceBenchmarkGenderAndAgeClas… │\n",
            "└─────┴────────┴───────────────────────────────────┘\n"
          ]
        }
      ],
      "source": [
        "clean_data = clean_data.with_columns(\n",
        "    pl.when(pl.col('age') == '0-2').then(0)\n",
        "      .when(pl.col('age') == '4-6').then(1)\n",
        "      .when(pl.col('age') == '8-13').then(2)\n",
        "      .when(pl.col('age') == '15-20').then(3)\n",
        "      .when(pl.col('age') == '25-32').then(4)\n",
        "      .when(pl.col('age') == '38-43').then(5)\n",
        "      .when(pl.col('age') == '48-53').then(6)\n",
        "      .when(pl.col('age') == '60+').then(7)\n",
        "      .alias('age')\n",
        ")\n",
        "\n",
        "print(clean_data.sample(5))\n"
      ]
    },
    {
      "cell_type": "markdown",
      "metadata": {
        "id": "M8seL7u5MqN_"
      },
      "source": [
        "## 4. Импорт модулей для создания самой модели"
      ]
    },
    {
      "cell_type": "code",
      "execution_count": 2,
      "metadata": {
        "id": "gr1NvGIlMqN_"
      },
      "outputs": [
        {
          "name": "stdout",
          "output_type": "stream",
          "text": [
            "WARNING:tensorflow:From C:\\Users\\mrate\\AppData\\Roaming\\Python\\Python311\\site-packages\\keras\\src\\losses.py:2976: The name tf.losses.sparse_softmax_cross_entropy is deprecated. Please use tf.compat.v1.losses.sparse_softmax_cross_entropy instead.\n",
            "\n"
          ]
        }
      ],
      "source": [
        "import tensorflow as tf\n",
        "from keras.models import Sequential\n",
        "from keras.layers import Conv2D, MaxPooling2D, Activation, Dropout, Flatten, Dense, Dropout, LayerNormalization, Input, BatchNormalization, GlobalAveragePooling2D\n",
        "from keras.preprocessing.image import img_to_array, load_img\n",
        "from tensorflow.keras.preprocessing.image import ImageDataGenerator\n"
      ]
    },
    {
      "cell_type": "markdown",
      "metadata": {
        "id": "7NFNYjaZMqOA"
      },
      "source": [
        "## 5. Создание тренировочного и тестового набора данных гендерной модели\n",
        "\n",
        "Для гендерной модели изменяю размер изображений до 128х128, потом преобразую их в массив numpy и добавляю в тестовый и обучающий наборы данных. Я сохраняю numpy массивы в файлы, так как преобразование 18к картинок занимает на моем ПК много времени."
      ]
    },
    {
      "cell_type": "code",
      "execution_count": null,
      "metadata": {
        "id": "X8SEJTZpiCPw"
      },
      "outputs": [],
      "source": [
        "# Можно пропустить предыдущие шаги, если уже сохранены обработанные данные\n",
        "clean_data = pl.read_csv(\"clean_data.csv\")\n"
      ]
    },
    {
      "cell_type": "code",
      "execution_count": null,
      "metadata": {
        "colab": {
          "base_uri": "https://localhost:8080/",
          "height": 882
        },
        "id": "Edfd0QEUiiRM",
        "outputId": "4e21164d-f2c3-4136-c7be-2b12c702057a"
      },
      "outputs": [
        {
          "data": {
            "text/html": [
              "<div><style>\n",
              ".dataframe > thead > tr,\n",
              ".dataframe > tbody > tr {\n",
              "  text-align: right;\n",
              "  white-space: pre-wrap;\n",
              "}\n",
              "</style>\n",
              "<small>shape: (17_452, 3)</small><table border=\"1\" class=\"dataframe\"><thead><tr><th>age</th><th>gender</th><th>img_path</th></tr><tr><td>i32</td><td>i32</td><td>str</td></tr></thead><tbody><tr><td>4</td><td>0</td><td>&quot;AdienceBenchma…</td></tr><tr><td>4</td><td>1</td><td>&quot;AdienceBenchma…</td></tr><tr><td>4</td><td>0</td><td>&quot;AdienceBenchma…</td></tr><tr><td>4</td><td>1</td><td>&quot;AdienceBenchma…</td></tr><tr><td>4</td><td>1</td><td>&quot;AdienceBenchma…</td></tr><tr><td>4</td><td>0</td><td>&quot;AdienceBenchma…</td></tr><tr><td>5</td><td>0</td><td>&quot;AdienceBenchma…</td></tr><tr><td>4</td><td>0</td><td>&quot;AdienceBenchma…</td></tr><tr><td>4</td><td>0</td><td>&quot;AdienceBenchma…</td></tr><tr><td>4</td><td>1</td><td>&quot;AdienceBenchma…</td></tr><tr><td>4</td><td>1</td><td>&quot;AdienceBenchma…</td></tr><tr><td>4</td><td>1</td><td>&quot;AdienceBenchma…</td></tr><tr><td>&hellip;</td><td>&hellip;</td><td>&hellip;</td></tr><tr><td>4</td><td>0</td><td>&quot;AdienceBenchma…</td></tr><tr><td>3</td><td>0</td><td>&quot;AdienceBenchma…</td></tr><tr><td>3</td><td>0</td><td>&quot;AdienceBenchma…</td></tr><tr><td>4</td><td>0</td><td>&quot;AdienceBenchma…</td></tr><tr><td>6</td><td>1</td><td>&quot;AdienceBenchma…</td></tr><tr><td>4</td><td>1</td><td>&quot;AdienceBenchma…</td></tr><tr><td>4</td><td>0</td><td>&quot;AdienceBenchma…</td></tr><tr><td>4</td><td>0</td><td>&quot;AdienceBenchma…</td></tr><tr><td>4</td><td>1</td><td>&quot;AdienceBenchma…</td></tr><tr><td>4</td><td>0</td><td>&quot;AdienceBenchma…</td></tr><tr><td>4</td><td>0</td><td>&quot;AdienceBenchma…</td></tr><tr><td>4</td><td>0</td><td>&quot;AdienceBenchma…</td></tr></tbody></table></div>"
            ],
            "text/plain": [
              "shape: (17_452, 3)\n",
              "┌─────┬────────┬───────────────────────────────────┐\n",
              "│ age ┆ gender ┆ img_path                          │\n",
              "│ --- ┆ ---    ┆ ---                               │\n",
              "│ i32 ┆ i32    ┆ str                               │\n",
              "╞═════╪════════╪═══════════════════════════════════╡\n",
              "│ 4   ┆ 0      ┆ AdienceBenchmarkGenderAndAgeClas… │\n",
              "│ 4   ┆ 1      ┆ AdienceBenchmarkGenderAndAgeClas… │\n",
              "│ 4   ┆ 0      ┆ AdienceBenchmarkGenderAndAgeClas… │\n",
              "│ 4   ┆ 1      ┆ AdienceBenchmarkGenderAndAgeClas… │\n",
              "│ …   ┆ …      ┆ …                                 │\n",
              "│ 4   ┆ 1      ┆ AdienceBenchmarkGenderAndAgeClas… │\n",
              "│ 4   ┆ 0      ┆ AdienceBenchmarkGenderAndAgeClas… │\n",
              "│ 4   ┆ 0      ┆ AdienceBenchmarkGenderAndAgeClas… │\n",
              "│ 4   ┆ 0      ┆ AdienceBenchmarkGenderAndAgeClas… │\n",
              "└─────┴────────┴───────────────────────────────────┘"
            ]
          },
          "execution_count": 16,
          "metadata": {},
          "output_type": "execute_result"
        }
      ],
      "source": [
        "clean_data\n"
      ]
    },
    {
      "cell_type": "code",
      "execution_count": null,
      "metadata": {
        "colab": {
          "base_uri": "https://localhost:8080/"
        },
        "id": "NNsDkXo8MqOA",
        "outputId": "2419c4cb-b8bf-4921-fa3b-b9d4cf236916"
      },
      "outputs": [
        {
          "name": "stdout",
          "output_type": "stream",
          "text": [
            "Train data shape (12216,)\n",
            "Test data shape (5236,)\n",
            "-1000 images processed (train)\n",
            "-2000 images processed (train)\n",
            "-3000 images processed (train)\n",
            "-4000 images processed (train)\n",
            "-5000 images processed (train)\n",
            "-6000 images processed (train)\n",
            "-7000 images processed (train)\n",
            "-8000 images processed (train)\n",
            "-9000 images processed (train)\n",
            "-10000 images processed (train)\n",
            "-11000 images processed (train)\n",
            "-12000 images processed (train)\n",
            "Train images shape (12216, 128, 128, 3)\n",
            "-13000 images processed (test)\n",
            "-14000 images processed (test)\n",
            "-15000 images processed (test)\n",
            "-16000 images processed (test)\n",
            "-17000 images processed (test)\n",
            "Test images shape (5236, 128, 128, 3)\n"
          ]
        }
      ],
      "source": [
        "from sklearn.model_selection import train_test_split\n",
        "import os\n",
        "X = clean_data['img_path']\n",
        "y = clean_data['gender']\n",
        "X_train, X_test, y_train, y_test = train_test_split(\n",
        "    X, y, test_size=0.3, random_state=42)\n",
        "\n",
        "print(f'Train data shape {X_train.shape}')\n",
        "print(f'Test data shape {X_test.shape}')\n",
        "\n",
        "train_images = []\n",
        "test_images = []\n",
        "i = 0\n",
        "if os.path.exists('dataset_arrays/train_images.npy'):\n",
        "    train_images = np.load('dataset_arrays/train_images.npy')\n",
        "else:\n",
        "    for img_path in X_train:\n",
        "        image = Image.open(img_path.replace(\"D:/datasets/\", \"\"))\n",
        "        image = image.resize((128, 128))   # Resize the image\n",
        "        data = np.asarray(image)\n",
        "        train_images.append(data)\n",
        "        i+= 1\n",
        "        if i % 1000 == 0:\n",
        "            print(f\"-{i} images processed (train)\")\n",
        "    train_images = np.asarray(train_images)\n",
        "\n",
        "print(f'Train images shape {train_images.shape}')\n",
        "\n",
        "if os.path.exists('dataset_arrays/test_images.npy'):\n",
        "    test_images = np.load('dataset_arrays/test_images.npy')\n",
        "else:\n",
        "    for img_path in X_test:\n",
        "        image = Image.open(img_path.replace(\"D:/datasets/\", \"\"))\n",
        "        image = image.resize((128, 128))  # Resize the image\n",
        "        data = np.asarray(image)\n",
        "        test_images.append(data)\n",
        "        i += 1\n",
        "        if i % 1000 == 0:\n",
        "            print(f\"-{i} images processed (test)\")\n",
        "    test_images = np.asarray(test_images)\n",
        "\n",
        "print(f'Test images shape {test_images.shape}')\n"
      ]
    },
    {
      "cell_type": "code",
      "execution_count": null,
      "metadata": {
        "colab": {
          "base_uri": "https://localhost:8080/"
        },
        "id": "DXu3A4ZCqWYg",
        "outputId": "2172b09e-4eb0-4414-b41b-e727ce04da14"
      },
      "outputs": [
        {
          "name": "stdout",
          "output_type": "stream",
          "text": [
            "(12216,)\n"
          ]
        },
        {
          "data": {
            "text/plain": [
              "(12216, 128, 128, 3)"
            ]
          },
          "execution_count": 23,
          "metadata": {},
          "output_type": "execute_result"
        }
      ],
      "source": [
        "print(y_train.shape)\n",
        "train_images.shape\n"
      ]
    },
    {
      "cell_type": "markdown",
      "metadata": {
        "id": "y8pGX_n_MqOA"
      },
      "source": [
        "## 6. Модель для предсказания гендера"
      ]
    },
    {
      "cell_type": "markdown",
      "metadata": {
        "id": "eHOH1NSGZ5K6"
      },
      "source": [
        "\n",
        "Основные изменения и улучшения:\n",
        "\n",
        "Использование BatchNormalization вместо LayerNormalization для лучшей стабилизации обучения.\n",
        "Добавление большего количества сверточных слоев с постепенным увеличением количества фильтров.\n",
        "Использование padding='same' для сохранения пространственных размеров в сверточных слоях.\n",
        "Более глубокая архитектура с четырьмя блоками свертки-пулинга.\n",
        "Добавление дополнительных полносвязных слоев с dropout для предотвращения переобучения.\n",
        "Использование меньшего размера ядра (3x3) в сверточных слоях, что является более распространенной практикой в современных CNN."
      ]
    },
    {
      "cell_type": "markdown",
      "metadata": {
        "id": "xCLsEU1uoDMm"
      },
      "source": [
        "Модель сверточной нейронной сети (CNN) для классификации изображений по гендеру\n",
        "1. Входные данные:\n",
        "   - Принимает изображения размером 128x128 пикселей с 3 цветовыми каналами (RGB).\n",
        "2. Сверточные блоки:\n",
        "   - Модель содержит 4 сверточных блока, каждый из которых увеличивает количество фильтров (32 -> 64 -> 128 -> 256).\n",
        "   - Каждый блок состоит из двух сверточных слоев (Conv2D) с ядром 3х3, за которыми следуют BatchNormalization, MaxPooling2D и Dropout.\n",
        "   - Использование 'padding='same'' сохраняет пространственные размеры после свертки.\n",
        "3. Полносвязные слои:\n",
        "   - Flatten преобразует многомерный тензор в одномерный вектор для подачи в полносвязные слои.\n",
        "   - После сверточных блоков идут полносвязные слои (Dense).\n",
        "   - Два скрытых слоя (512 и 256 нейронов) с активацией ReLU.\n",
        "   - Выходной слой с 2 нейронами и активацией softmax для бинарной классификации (мужской/женский).\n",
        "4. Регуляризация:\n",
        "   - Использование BatchNormalization для стабилизации обучения. Нормализует выходы предыдущего слоя, центрируя и масштабируя их.\n",
        "   - Dropout для предотвращения переобучения. Случайно отключает определенный процент нейронов во время обучения, что помогает предотвратить переобучение."
      ]
    },
    {
      "cell_type": "code",
      "execution_count": null,
      "metadata": {
        "colab": {
          "base_uri": "https://localhost:8080/"
        },
        "id": "PwptTdtiMqOB",
        "outputId": "0e700191-4a80-4d46-b816-b9564a50e4e0"
      },
      "outputs": [
        {
          "name": "stdout",
          "output_type": "stream",
          "text": [
            "Model: \"sequential_1\"\n",
            "_________________________________________________________________\n",
            " Layer (type)                Output Shape              Param #   \n",
            "=================================================================\n",
            " conv2d_8 (Conv2D)           (None, 128, 128, 32)      896       \n",
            "                                                                 \n",
            " batch_normalization_10 (Ba  (None, 128, 128, 32)      128       \n",
            " tchNormalization)                                               \n",
            "                                                                 \n",
            " conv2d_9 (Conv2D)           (None, 128, 128, 32)      9248      \n",
            "                                                                 \n",
            " batch_normalization_11 (Ba  (None, 128, 128, 32)      128       \n",
            " tchNormalization)                                               \n",
            "                                                                 \n",
            " max_pooling2d_4 (MaxPoolin  (None, 64, 64, 32)        0         \n",
            " g2D)                                                            \n",
            "                                                                 \n",
            " dropout_6 (Dropout)         (None, 64, 64, 32)        0         \n",
            "                                                                 \n",
            " conv2d_10 (Conv2D)          (None, 64, 64, 64)        18496     \n",
            "                                                                 \n",
            " batch_normalization_12 (Ba  (None, 64, 64, 64)        256       \n",
            " tchNormalization)                                               \n",
            "                                                                 \n",
            " conv2d_11 (Conv2D)          (None, 64, 64, 64)        36928     \n",
            "                                                                 \n",
            " batch_normalization_13 (Ba  (None, 64, 64, 64)        256       \n",
            " tchNormalization)                                               \n",
            "                                                                 \n",
            " max_pooling2d_5 (MaxPoolin  (None, 32, 32, 64)        0         \n",
            " g2D)                                                            \n",
            "                                                                 \n",
            " dropout_7 (Dropout)         (None, 32, 32, 64)        0         \n",
            "                                                                 \n",
            " conv2d_12 (Conv2D)          (None, 32, 32, 128)       73856     \n",
            "                                                                 \n",
            " batch_normalization_14 (Ba  (None, 32, 32, 128)       512       \n",
            " tchNormalization)                                               \n",
            "                                                                 \n",
            " conv2d_13 (Conv2D)          (None, 32, 32, 128)       147584    \n",
            "                                                                 \n",
            " batch_normalization_15 (Ba  (None, 32, 32, 128)       512       \n",
            " tchNormalization)                                               \n",
            "                                                                 \n",
            " max_pooling2d_6 (MaxPoolin  (None, 16, 16, 128)       0         \n",
            " g2D)                                                            \n",
            "                                                                 \n",
            " dropout_8 (Dropout)         (None, 16, 16, 128)       0         \n",
            "                                                                 \n",
            " conv2d_14 (Conv2D)          (None, 16, 16, 256)       295168    \n",
            "                                                                 \n",
            " batch_normalization_16 (Ba  (None, 16, 16, 256)       1024      \n",
            " tchNormalization)                                               \n",
            "                                                                 \n",
            " conv2d_15 (Conv2D)          (None, 16, 16, 256)       590080    \n",
            "                                                                 \n",
            " batch_normalization_17 (Ba  (None, 16, 16, 256)       1024      \n",
            " tchNormalization)                                               \n",
            "                                                                 \n",
            " max_pooling2d_7 (MaxPoolin  (None, 8, 8, 256)         0         \n",
            " g2D)                                                            \n",
            "                                                                 \n",
            " dropout_9 (Dropout)         (None, 8, 8, 256)         0         \n",
            "                                                                 \n",
            " flatten_1 (Flatten)         (None, 16384)             0         \n",
            "                                                                 \n",
            " dense_3 (Dense)             (None, 512)               8389120   \n",
            "                                                                 \n",
            " batch_normalization_18 (Ba  (None, 512)               2048      \n",
            " tchNormalization)                                               \n",
            "                                                                 \n",
            " dropout_10 (Dropout)        (None, 512)               0         \n",
            "                                                                 \n",
            " dense_4 (Dense)             (None, 256)               131328    \n",
            "                                                                 \n",
            " batch_normalization_19 (Ba  (None, 256)               1024      \n",
            " tchNormalization)                                               \n",
            "                                                                 \n",
            " dropout_11 (Dropout)        (None, 256)               0         \n",
            "                                                                 \n",
            " dense_5 (Dense)             (None, 2)                 514       \n",
            "                                                                 \n",
            "=================================================================\n",
            "Total params: 9700130 (37.00 MB)\n",
            "Trainable params: 9696674 (36.99 MB)\n",
            "Non-trainable params: 3456 (13.50 KB)\n",
            "_________________________________________________________________\n"
          ]
        }
      ],
      "source": [
        "gender_model = Sequential([\n",
        "    Input(shape=(128, 128, 3)),\n",
        "\n",
        "    Conv2D(32, (3, 3), activation='relu', padding='same'),\n",
        "    BatchNormalization(),\n",
        "    Conv2D(32, (3, 3), activation='relu', padding='same'),\n",
        "    BatchNormalization(),\n",
        "    MaxPooling2D((2, 2)),\n",
        "    Dropout(0.25),\n",
        "\n",
        "    Conv2D(64, (3, 3), activation='relu', padding='same'),\n",
        "    BatchNormalization(),\n",
        "    Conv2D(64, (3, 3), activation='relu', padding='same'),\n",
        "    BatchNormalization(),\n",
        "    MaxPooling2D((2, 2)),\n",
        "    Dropout(0.25),\n",
        "\n",
        "    Conv2D(128, (3, 3), activation='relu', padding='same'),\n",
        "    BatchNormalization(),\n",
        "    Conv2D(128, (3, 3), activation='relu', padding='same'),\n",
        "    BatchNormalization(),\n",
        "    MaxPooling2D((2, 2)),\n",
        "    Dropout(0.25),\n",
        "\n",
        "    Conv2D(256, (3, 3), activation='relu', padding='same'),\n",
        "    BatchNormalization(),\n",
        "    Conv2D(256, (3, 3), activation='relu', padding='same'),\n",
        "    BatchNormalization(),\n",
        "    MaxPooling2D((2, 2)),\n",
        "    Dropout(0.25),\n",
        "\n",
        "    Flatten(),\n",
        "    Dense(512, activation='relu'),\n",
        "    BatchNormalization(),\n",
        "    Dropout(0.5),\n",
        "    Dense(256, activation='relu'),\n",
        "    BatchNormalization(),\n",
        "    Dropout(0.5),\n",
        "    Dense(2, activation='softmax')\n",
        "])\n",
        "\n",
        "gender_model.summary()\n"
      ]
    },
    {
      "cell_type": "markdown",
      "metadata": {
        "id": "1sHPatSSoDMn"
      },
      "source": [
        "В итоге получаем 9_696_674 весов. Я пробовал и другие архитектуры для этой модели, но такая показала себя лучше всего"
      ]
    },
    {
      "cell_type": "code",
      "execution_count": null,
      "metadata": {
        "id": "2-Yy3qPfoDMn"
      },
      "outputs": [],
      "source": [
        "# преобразование датасета в удобный для tensorflow формат. В гугл колабе это увеливает скорость обучения\n",
        "train_dataset = tf.data.Dataset.from_tensor_slices(\n",
        "    (train_images, y_train)).batch(32).prefetch(tf.data.AUTOTUNE)\n",
        "test_dataset = tf.data.Dataset.from_tensor_slices(\n",
        "    (test_images, y_test)).batch(32).prefetch(tf.data.AUTOTUNE)\n"
      ]
    },
    {
      "cell_type": "code",
      "execution_count": null,
      "metadata": {
        "colab": {
          "base_uri": "https://localhost:8080/"
        },
        "id": "Omp7LOcyaEiD",
        "outputId": "8dbfe832-024f-40cd-d8fe-f28457cb52d4"
      },
      "outputs": [
        {
          "name": "stdout",
          "output_type": "stream",
          "text": [
            "Epoch 1/30\n",
            "382/382 [==============================] - 41s 93ms/step - loss: 0.7070 - accuracy: 0.6293 - val_loss: 0.5733 - val_accuracy: 0.7003\n",
            "Epoch 2/30\n",
            "382/382 [==============================] - 35s 92ms/step - loss: 0.5432 - accuracy: 0.7189 - val_loss: 0.4414 - val_accuracy: 0.7840\n",
            "Epoch 3/30\n",
            "382/382 [==============================] - 35s 93ms/step - loss: 0.4665 - accuracy: 0.7736 - val_loss: 0.3958 - val_accuracy: 0.8201\n",
            "Epoch 4/30\n",
            "382/382 [==============================] - 35s 92ms/step - loss: 0.4180 - accuracy: 0.8010 - val_loss: 0.4569 - val_accuracy: 0.7888\n",
            "Epoch 5/30\n",
            "382/382 [==============================] - 36s 93ms/step - loss: 0.3762 - accuracy: 0.8243 - val_loss: 0.3603 - val_accuracy: 0.8384\n",
            "Epoch 6/30\n",
            "382/382 [==============================] - 36s 95ms/step - loss: 0.3562 - accuracy: 0.8381 - val_loss: 0.3747 - val_accuracy: 0.8337\n",
            "Epoch 7/30\n",
            "382/382 [==============================] - 35s 92ms/step - loss: 0.3248 - accuracy: 0.8559 - val_loss: 0.3466 - val_accuracy: 0.8489\n",
            "Epoch 8/30\n",
            "382/382 [==============================] - 35s 92ms/step - loss: 0.3312 - accuracy: 0.8511 - val_loss: 0.3120 - val_accuracy: 0.8619\n",
            "Epoch 9/30\n",
            "382/382 [==============================] - 35s 91ms/step - loss: 0.3014 - accuracy: 0.8654 - val_loss: 0.3570 - val_accuracy: 0.8463\n",
            "Epoch 10/30\n",
            "382/382 [==============================] - 35s 92ms/step - loss: 0.2642 - accuracy: 0.8883 - val_loss: 0.3588 - val_accuracy: 0.8501\n",
            "Epoch 11/30\n",
            "382/382 [==============================] - 36s 94ms/step - loss: 0.2621 - accuracy: 0.8836 - val_loss: 0.3839 - val_accuracy: 0.8464\n",
            "Epoch 12/30\n",
            "382/382 [==============================] - 35s 91ms/step - loss: 0.2366 - accuracy: 0.9002 - val_loss: 0.3107 - val_accuracy: 0.8749\n",
            "Epoch 13/30\n",
            "382/382 [==============================] - 34s 90ms/step - loss: 0.2079 - accuracy: 0.9148 - val_loss: 0.3009 - val_accuracy: 0.8684\n",
            "Epoch 14/30\n",
            "382/382 [==============================] - 35s 90ms/step - loss: 0.1829 - accuracy: 0.9258 - val_loss: 0.4859 - val_accuracy: 0.8371\n",
            "Epoch 15/30\n",
            "382/382 [==============================] - 34s 90ms/step - loss: 0.1979 - accuracy: 0.9191 - val_loss: 0.3357 - val_accuracy: 0.8629\n",
            "Epoch 16/30\n",
            "382/382 [==============================] - 35s 92ms/step - loss: 0.1691 - accuracy: 0.9330 - val_loss: 0.3160 - val_accuracy: 0.8875\n",
            "Epoch 17/30\n",
            "382/382 [==============================] - 35s 91ms/step - loss: 0.1811 - accuracy: 0.9270 - val_loss: 0.2997 - val_accuracy: 0.8797\n",
            "Epoch 18/30\n",
            "382/382 [==============================] - 35s 91ms/step - loss: 0.1625 - accuracy: 0.9334 - val_loss: 0.2943 - val_accuracy: 0.8913\n",
            "Epoch 19/30\n",
            "382/382 [==============================] - 35s 90ms/step - loss: 0.1555 - accuracy: 0.9365 - val_loss: 0.3074 - val_accuracy: 0.8862\n",
            "Epoch 20/30\n",
            "382/382 [==============================] - 34s 90ms/step - loss: 0.1240 - accuracy: 0.9512 - val_loss: 0.3227 - val_accuracy: 0.8881\n",
            "Epoch 21/30\n",
            "382/382 [==============================] - 34s 90ms/step - loss: 0.1018 - accuracy: 0.9614 - val_loss: 0.3063 - val_accuracy: 0.8925\n",
            "Epoch 22/30\n",
            "382/382 [==============================] - 34s 90ms/step - loss: 0.1123 - accuracy: 0.9575 - val_loss: 0.3408 - val_accuracy: 0.8875\n",
            "Epoch 23/30\n",
            "382/382 [==============================] - 35s 91ms/step - loss: 0.0803 - accuracy: 0.9690 - val_loss: 0.3815 - val_accuracy: 0.8770\n",
            "Epoch 24/30\n",
            "382/382 [==============================] - 34s 90ms/step - loss: 0.0964 - accuracy: 0.9632 - val_loss: 0.3437 - val_accuracy: 0.8888\n",
            "Epoch 25/30\n",
            "382/382 [==============================] - 34s 90ms/step - loss: 0.0761 - accuracy: 0.9705 - val_loss: 0.3392 - val_accuracy: 0.8904\n",
            "Epoch 26/30\n",
            "382/382 [==============================] - 35s 91ms/step - loss: 0.0693 - accuracy: 0.9750 - val_loss: 0.4086 - val_accuracy: 0.8841\n",
            "Epoch 27/30\n",
            "382/382 [==============================] - 34s 90ms/step - loss: 0.0807 - accuracy: 0.9707 - val_loss: 0.3975 - val_accuracy: 0.8749\n",
            "Epoch 28/30\n",
            "382/382 [==============================] - 34s 90ms/step - loss: 0.0836 - accuracy: 0.9691 - val_loss: 0.3295 - val_accuracy: 0.8967\n",
            "Epoch 29/30\n",
            "382/382 [==============================] - 34s 90ms/step - loss: 0.0648 - accuracy: 0.9752 - val_loss: 0.3664 - val_accuracy: 0.8980\n",
            "Epoch 30/30\n",
            "382/382 [==============================] - 34s 89ms/step - loss: 0.1017 - accuracy: 0.9622 - val_loss: 0.2941 - val_accuracy: 0.8940\n"
          ]
        },
        {
          "name": "stderr",
          "output_type": "stream",
          "text": [
            "/usr/local/lib/python3.10/dist-packages/keras/src/engine/training.py:3103: UserWarning: You are saving your model as an HDF5 file via `model.save()`. This file format is considered legacy. We recommend using instead the native Keras format, e.g. `model.save('my_model.keras')`.\n",
            "  saving_api.save_model(\n"
          ]
        }
      ],
      "source": [
        "# Тренировка гендерной модели\n",
        "callback = tf.keras.callbacks.EarlyStopping(monitor='loss', patience=5)  # функция для остановки, если loss не улучшается на протяжении 5 эпох\n",
        "\n",
        "gender_model.compile(optimizer='adam', loss=tf.keras.losses.SparseCategoricalCrossentropy(), metrics=['accuracy'])\n",
        "\n",
        "gender_model_history = gender_model.fit(train_dataset, epochs=30, validation_data=test_dataset, callbacks=[callback])\n",
        "\n",
        "gender_model.save(\"gender_model.h5\")\n"
      ]
    },
    {
      "cell_type": "markdown",
      "metadata": {
        "id": "_KMyEtBFoDMr"
      },
      "source": [
        "После тренировки нейросети рисуем график истории ее обучения"
      ]
    },
    {
      "cell_type": "code",
      "execution_count": null,
      "metadata": {
        "colab": {
          "base_uri": "https://localhost:8080/",
          "height": 586
        },
        "id": "8PD_oegVrWrb",
        "outputId": "710138fe-a03e-430e-b281-6dc1aeeae248"
      },
      "outputs": [
        {
          "data": {
            "text/plain": [
              "<matplotlib.legend.Legend at 0x7d47dc11bd30>"
            ]
          },
          "execution_count": 34,
          "metadata": {},
          "output_type": "execute_result"
        },
        {
          "data": {
            "image/png": "[encoded data removed]",
            "text/plain": [
              "<Figure size 1200x600 with 2 Axes>"
            ]
          },
          "metadata": {},
          "output_type": "display_data"
        }
      ],
      "source": [
        "history = gender_model_history\n",
        "# Получаем данные обучения из history\n",
        "acc = history.history['accuracy']\n",
        "val_acc = history.history['val_accuracy']\n",
        "loss = history.history['loss']\n",
        "val_loss = history.history['val_loss']\n",
        "epochs = range(1, len(acc) + 1)\n",
        "\n",
        "# Строим график точности\n",
        "plt.figure(figsize=(12, 6))\n",
        "plt.subplot(1, 2, 1)\n",
        "plt.plot(epochs, acc, 'bo', label='Training acc')\n",
        "plt.plot(epochs, val_acc, 'b', label='Validation acc')\n",
        "plt.title('Training and validation accuracy')\n",
        "plt.xlabel('Epochs')\n",
        "plt.ylabel('Accuracy')\n",
        "plt.legend()\n",
        "\n",
        "# Строим график потерь\n",
        "plt.subplot(1, 2, 2)\n",
        "plt.plot(epochs, loss, 'bo', label='Training loss')\n",
        "plt.plot(epochs, val_loss, 'b', label='Validation loss')\n",
        "plt.title('Training and validation loss')\n",
        "plt.xlabel('Epochs')\n",
        "plt.ylabel('Loss')\n",
        "plt.legend()\n"
      ]
    },
    {
      "cell_type": "markdown",
      "metadata": {
        "id": "7yVEafkToDMs"
      },
      "source": [
        "*для гугл колаба, сохраняем модель в гугл диск, чтобы не потерять ее из-за окончания сессии"
      ]
    },
    {
      "cell_type": "code",
      "execution_count": null,
      "metadata": {
        "colab": {
          "base_uri": "https://localhost:8080/"
        },
        "id": "ynyn-sCIv8UH",
        "outputId": "f3078435-7e4a-4847-c1ce-bd3a38802433"
      },
      "outputs": [
        {
          "name": "stdout",
          "output_type": "stream",
          "text": [
            "Drive already mounted at /content/drive; to attempt to forcibly remount, call drive.mount(\"/content/drive\", force_remount=True).\n"
          ]
        },
        {
          "name": "stderr",
          "output_type": "stream",
          "text": [
            "/usr/local/lib/python3.10/dist-packages/keras/src/engine/training.py:3103: UserWarning: You are saving your model as an HDF5 file via `model.save()`. This file format is considered legacy. We recommend using instead the native Keras format, e.g. `model.save('my_model.keras')`.\n",
            "  saving_api.save_model(\n"
          ]
        }
      ],
      "source": [
        "from google.colab import drive\n",
        "drive.mount('/content/drive')\n",
        "gender_model.save('/content/drive/MyDrive/gender_model.h5')\n"
      ]
    },
    {
      "cell_type": "markdown",
      "metadata": {},
      "source": [
        "## 7. Создание тренировочного и тестового набора данных возратсной модели\n"
      ]
    },
    {
      "cell_type": "code",
      "execution_count": 4,
      "metadata": {},
      "outputs": [
        {
          "data": {
            "text/html": [
              "<div><style>\n",
              ".dataframe > thead > tr,\n",
              ".dataframe > tbody > tr {\n",
              "  text-align: right;\n",
              "  white-space: pre-wrap;\n",
              "}\n",
              "</style>\n",
              "<small>shape: (17_452, 7)</small><table border=\"1\" class=\"dataframe\"><thead><tr><th>age</th><th>gender</th><th>x</th><th>y</th><th>dx</th><th>dy</th><th>img_path</th></tr><tr><td>i64</td><td>i64</td><td>i64</td><td>i64</td><td>i64</td><td>i64</td><td>str</td></tr></thead><tbody><tr><td>4</td><td>0</td><td>0</td><td>414</td><td>1086</td><td>1383</td><td>&quot;D:/datasets/AdienceBenchmarkGe…</td></tr><tr><td>4</td><td>1</td><td>301</td><td>105</td><td>640</td><td>641</td><td>&quot;D:/datasets/AdienceBenchmarkGe…</td></tr><tr><td>4</td><td>0</td><td>2395</td><td>876</td><td>771</td><td>771</td><td>&quot;D:/datasets/AdienceBenchmarkGe…</td></tr><tr><td>4</td><td>1</td><td>752</td><td>1255</td><td>484</td><td>485</td><td>&quot;D:/datasets/AdienceBenchmarkGe…</td></tr><tr><td>4</td><td>1</td><td>175</td><td>80</td><td>769</td><td>768</td><td>&quot;D:/datasets/AdienceBenchmarkGe…</td></tr><tr><td>&hellip;</td><td>&hellip;</td><td>&hellip;</td><td>&hellip;</td><td>&hellip;</td><td>&hellip;</td><td>&hellip;</td></tr><tr><td>4</td><td>0</td><td>718</td><td>748</td><td>492</td><td>492</td><td>&quot;D:/datasets/AdienceBenchmarkGe…</td></tr><tr><td>4</td><td>1</td><td>48</td><td>472</td><td>768</td><td>768</td><td>&quot;D:/datasets/AdienceBenchmarkGe…</td></tr><tr><td>4</td><td>0</td><td>950</td><td>0</td><td>692</td><td>687</td><td>&quot;D:/datasets/AdienceBenchmarkGe…</td></tr><tr><td>4</td><td>0</td><td>831</td><td>895</td><td>899</td><td>899</td><td>&quot;D:/datasets/AdienceBenchmarkGe…</td></tr><tr><td>4</td><td>0</td><td>653</td><td>1023</td><td>555</td><td>554</td><td>&quot;D:/datasets/AdienceBenchmarkGe…</td></tr></tbody></table></div>"
            ],
            "text/plain": [
              "shape: (17_452, 7)\n",
              "┌─────┬────────┬──────┬──────┬──────┬──────┬─────────────────────────────────┐\n",
              "│ age ┆ gender ┆ x    ┆ y    ┆ dx   ┆ dy   ┆ img_path                        │\n",
              "│ --- ┆ ---    ┆ ---  ┆ ---  ┆ ---  ┆ ---  ┆ ---                             │\n",
              "│ i64 ┆ i64    ┆ i64  ┆ i64  ┆ i64  ┆ i64  ┆ str                             │\n",
              "╞═════╪════════╪══════╪══════╪══════╪══════╪═════════════════════════════════╡\n",
              "│ 4   ┆ 0      ┆ 0    ┆ 414  ┆ 1086 ┆ 1383 ┆ D:/datasets/AdienceBenchmarkGe… │\n",
              "│ 4   ┆ 1      ┆ 301  ┆ 105  ┆ 640  ┆ 641  ┆ D:/datasets/AdienceBenchmarkGe… │\n",
              "│ 4   ┆ 0      ┆ 2395 ┆ 876  ┆ 771  ┆ 771  ┆ D:/datasets/AdienceBenchmarkGe… │\n",
              "│ 4   ┆ 1      ┆ 752  ┆ 1255 ┆ 484  ┆ 485  ┆ D:/datasets/AdienceBenchmarkGe… │\n",
              "│ 4   ┆ 1      ┆ 175  ┆ 80   ┆ 769  ┆ 768  ┆ D:/datasets/AdienceBenchmarkGe… │\n",
              "│ …   ┆ …      ┆ …    ┆ …    ┆ …    ┆ …    ┆ …                               │\n",
              "│ 4   ┆ 0      ┆ 718  ┆ 748  ┆ 492  ┆ 492  ┆ D:/datasets/AdienceBenchmarkGe… │\n",
              "│ 4   ┆ 1      ┆ 48   ┆ 472  ┆ 768  ┆ 768  ┆ D:/datasets/AdienceBenchmarkGe… │\n",
              "│ 4   ┆ 0      ┆ 950  ┆ 0    ┆ 692  ┆ 687  ┆ D:/datasets/AdienceBenchmarkGe… │\n",
              "│ 4   ┆ 0      ┆ 831  ┆ 895  ┆ 899  ┆ 899  ┆ D:/datasets/AdienceBenchmarkGe… │\n",
              "│ 4   ┆ 0      ┆ 653  ┆ 1023 ┆ 555  ┆ 554  ┆ D:/datasets/AdienceBenchmarkGe… │\n",
              "└─────┴────────┴──────┴──────┴──────┴──────┴─────────────────────────────────┘"
            ]
          },
          "execution_count": 4,
          "metadata": {},
          "output_type": "execute_result"
        }
      ],
      "source": [
        "# Можно пропустить предыдущие шаги, если уже сохранены обработанные данные\n",
        "clean_data = pl.read_csv(\"./dataset_arrays/clean_data.csv\")\n",
        "clean_data\n"
      ]
    },
    {
      "cell_type": "code",
      "execution_count": 5,
      "metadata": {},
      "outputs": [
        {
          "name": "stdout",
          "output_type": "stream",
          "text": [
            "Train data shape (12216,)\n",
            "Test data shape (5236,)\n",
            "Train images shape (12216, 128, 128, 3)\n",
            "Test images shape (5236, 128, 128, 3)\n"
          ]
        }
      ],
      "source": [
        "from sklearn.model_selection import train_test_split\n",
        "import os\n",
        "X = clean_data['img_path']\n",
        "y = clean_data['age']\n",
        "X_train, X_test, y_train, y_test = train_test_split(\n",
        "    X, y, test_size=0.3, random_state=42)\n",
        "\n",
        "print(f'Train data shape {X_train.shape}')\n",
        "print(f'Test data shape {X_test.shape}')\n",
        "\n",
        "train_images = []\n",
        "test_images = []\n",
        "i = 0\n",
        "if os.path.exists('dataset_arrays/train_images.npy'):\n",
        "    train_images = np.load('dataset_arrays/train_images.npy')\n",
        "else:\n",
        "    for img_path in X_train:\n",
        "        image = Image.open(img_path)\n",
        "        image = image.resize((128, 128))   # Resize the image\n",
        "        data = np.asarray(image)\n",
        "        train_images.append(data)\n",
        "        i += 1\n",
        "        if i % 1000 == 0:\n",
        "            print(f\"-{i} images processed (train)\")\n",
        "    train_images = np.asarray(train_images)\n",
        "\n",
        "print(f'Train images shape {train_images.shape}')\n",
        "\n",
        "if os.path.exists('dataset_arrays/test_images.npy'):\n",
        "    test_images = np.load('dataset_arrays/test_images.npy')\n",
        "else:\n",
        "    for img_path in X_test:\n",
        "        image = Image.open(img_path)\n",
        "        image = image.resize((128, 128))  # Resize the image\n",
        "        data = np.asarray(image)\n",
        "        test_images.append(data)\n",
        "        i += 1\n",
        "        if i % 1000 == 0:\n",
        "            print(f\"-{i} images processed (test)\")\n",
        "    test_images = np.asarray(test_images)\n",
        "\n",
        "print(f'Test images shape {test_images.shape}')\n"
      ]
    },
    {
      "cell_type": "code",
      "execution_count": 6,
      "metadata": {},
      "outputs": [],
      "source": [
        "# Предполагая, что y_train['age'] - это ваши метки\n",
        "y_train_encoded = tf.keras.utils.to_categorical(y_train, num_classes=8)\n",
        "y_test_encoded = tf.keras.utils.to_categorical(y_test, num_classes=8)\n"
      ]
    },
    {
      "cell_type": "code",
      "execution_count": 7,
      "metadata": {},
      "outputs": [],
      "source": [
        "train_dataset = tf.data.Dataset.from_tensor_slices(\n",
        "    (train_images, y_train_encoded)).batch(32).prefetch(tf.data.AUTOTUNE)\n",
        "test_dataset = tf.data.Dataset.from_tensor_slices(\n",
        "    (test_images, y_test_encoded)).batch(32).prefetch(tf.data.AUTOTUNE)\n"
      ]
    },
    {
      "cell_type": "markdown",
      "metadata": {
        "id": "GDnPyOXAkeby"
      },
      "source": [
        "## 8. Модель для предсказания возраста\n"
      ]
    },
    {
      "cell_type": "markdown",
      "metadata": {
        "id": "FnHACyEXyyU5"
      },
      "source": [
        "### Модель №1 (вышла не очнь)\n"
      ]
    },
    {
      "cell_type": "markdown",
      "metadata": {},
      "source": [
        "Модель представляет собой сверточную нейронную сеть (CNN) для классификации возраста по изображениям:\n",
        "1. Входные данные:\n",
        "   - Принимает изображения размером 128x128 пикселей с 3 цветовыми каналами (RGB).\n",
        "\n",
        "2. Сверточные блоки:\n",
        "   - Модель содержит 4 сверточных блока с увеличивающимся количеством фильтров (64 -> 128 -> 256 -> 512).\n",
        "   - Каждый блок состоит из двух сверточных слоев (Conv2D), за которыми следуют BatchNormalization, MaxPooling2D (кроме последнего блока) и Dropout.\n",
        "   - Использование 'padding='same'' сохраняет пространственные размеры после свертки.\n",
        "\n",
        "3. Особенности сверточных слоев:\n",
        "   - Начинаются с 64 фильтров и увеличиваются до 512, что позволяет извлекать более сложные и абстрактные признаки на глубоких уровнях сети.\n",
        "   - Размер ядра (3,3) => эффективное извлечение локальных признаков.\n",
        "\n",
        "4. Пулинг и регуляризация:\n",
        "   - MaxPooling2D используется в первых трех блоках для уменьшения пространственных размеров.\n",
        "   - В последнем блоке применяется GlobalAveragePooling2D, что значительно уменьшает количество параметров.\n",
        "   - Dropout применяется после каждого блока (25% в сверточных, 50% в полносвязных слоях) для предотвращения переобучения.\n",
        "\n",
        "5. Полносвязные слои:\n",
        "   - После сверточных блоков идут два полносвязных слоя (Dense) с 512 и 256 нейронами.\n",
        "   - Выходной слой имеет 8 нейронов, что предполагает классификацию на 8 возрастных групп.\n",
        "\n",
        "6. Активации и нормализация:\n",
        "   - ReLU используется во всех слоях, кроме выходного, для нелинейности.\n",
        "   - BatchNormalization применяется после каждого сверточного и полносвязного слоя для стабилизации обучения.\n",
        "   - Softmax на выходном слое для получения вероятностей принадлежности к каждой возрастной группе."
      ]
    },
    {
      "cell_type": "code",
      "execution_count": null,
      "metadata": {
        "colab": {
          "base_uri": "https://localhost:8080/"
        },
        "id": "OFJd-CRXkeQE",
        "outputId": "ea8d411f-f495-4dd0-b1ce-f63fc89cda69"
      },
      "outputs": [
        {
          "name": "stdout",
          "output_type": "stream",
          "text": [
            "Model: \"sequential_1\"\n",
            "_________________________________________________________________\n",
            " Layer (type)                Output Shape              Param #   \n",
            "=================================================================\n",
            " conv2d_103 (Conv2D)         (None, 128, 128, 64)      1792      \n",
            "                                                                 \n",
            " batch_normalization_110 (B  (None, 128, 128, 64)      256       \n",
            " atchNormalization)                                              \n",
            "                                                                 \n",
            " conv2d_104 (Conv2D)         (None, 128, 128, 64)      36928     \n",
            "                                                                 \n",
            " batch_normalization_111 (B  (None, 128, 128, 64)      256       \n",
            " atchNormalization)                                              \n",
            "                                                                 \n",
            " max_pooling2d_21 (MaxPooli  (None, 64, 64, 64)        0         \n",
            " ng2D)                                                           \n",
            "                                                                 \n",
            " dropout_14 (Dropout)        (None, 64, 64, 64)        0         \n",
            "                                                                 \n",
            " conv2d_105 (Conv2D)         (None, 64, 64, 128)       73856     \n",
            "                                                                 \n",
            " batch_normalization_112 (B  (None, 64, 64, 128)       512       \n",
            " atchNormalization)                                              \n",
            "                                                                 \n",
            " conv2d_106 (Conv2D)         (None, 64, 64, 128)       147584    \n",
            "                                                                 \n",
            " batch_normalization_113 (B  (None, 64, 64, 128)       512       \n",
            " atchNormalization)                                              \n",
            "                                                                 \n",
            " max_pooling2d_22 (MaxPooli  (None, 32, 32, 128)       0         \n",
            " ng2D)                                                           \n",
            "                                                                 \n",
            " dropout_15 (Dropout)        (None, 32, 32, 128)       0         \n",
            "                                                                 \n",
            " conv2d_107 (Conv2D)         (None, 32, 32, 256)       295168    \n",
            "                                                                 \n",
            " batch_normalization_114 (B  (None, 32, 32, 256)       1024      \n",
            " atchNormalization)                                              \n",
            "                                                                 \n",
            " conv2d_108 (Conv2D)         (None, 32, 32, 256)       590080    \n",
            "                                                                 \n",
            " batch_normalization_115 (B  (None, 32, 32, 256)       1024      \n",
            " atchNormalization)                                              \n",
            "                                                                 \n",
            " max_pooling2d_23 (MaxPooli  (None, 16, 16, 256)       0         \n",
            " ng2D)                                                           \n",
            "                                                                 \n",
            " dropout_16 (Dropout)        (None, 16, 16, 256)       0         \n",
            "                                                                 \n",
            " conv2d_109 (Conv2D)         (None, 16, 16, 512)       1180160   \n",
            "                                                                 \n",
            " batch_normalization_116 (B  (None, 16, 16, 512)       2048      \n",
            " atchNormalization)                                              \n",
            "                                                                 \n",
            " conv2d_110 (Conv2D)         (None, 16, 16, 512)       2359808   \n",
            "                                                                 \n",
            " batch_normalization_117 (B  (None, 16, 16, 512)       2048      \n",
            " atchNormalization)                                              \n",
            "                                                                 \n",
            " global_average_pooling2d_7  (None, 512)               0         \n",
            "  (GlobalAveragePooling2D)                                       \n",
            "                                                                 \n",
            " dropout_17 (Dropout)        (None, 512)               0         \n",
            "                                                                 \n",
            " dense_14 (Dense)            (None, 512)               262656    \n",
            "                                                                 \n",
            " batch_normalization_118 (B  (None, 512)               2048      \n",
            " atchNormalization)                                              \n",
            "                                                                 \n",
            " dropout_18 (Dropout)        (None, 512)               0         \n",
            "                                                                 \n",
            " dense_15 (Dense)            (None, 256)               131328    \n",
            "                                                                 \n",
            " batch_normalization_119 (B  (None, 256)               1024      \n",
            " atchNormalization)                                              \n",
            "                                                                 \n",
            " dropout_19 (Dropout)        (None, 256)               0         \n",
            "                                                                 \n",
            " dense_16 (Dense)            (None, 8)                 2056      \n",
            "                                                                 \n",
            "=================================================================\n",
            "Total params: 5092168 (19.43 MB)\n",
            "Trainable params: 5086792 (19.40 MB)\n",
            "Non-trainable params: 5376 (21.00 KB)\n",
            "_________________________________________________________________\n"
          ]
        }
      ],
      "source": [
        "age_model = Sequential([\n",
        "    Input(shape=(128, 128, 3)),\n",
        "    Conv2D(64, (3, 3), activation='relu', padding='same'),\n",
        "    BatchNormalization(),\n",
        "    Conv2D(64, (3, 3), activation='relu', padding='same'),\n",
        "    BatchNormalization(),\n",
        "    MaxPooling2D((2, 2)),\n",
        "    Dropout(0.25),\n",
        "\n",
        "    Conv2D(128, (3, 3), activation='relu', padding='same'),\n",
        "    BatchNormalization(),\n",
        "    Conv2D(128, (3, 3), activation='relu', padding='same'),\n",
        "    BatchNormalization(),\n",
        "    MaxPooling2D((2, 2)),\n",
        "    Dropout(0.25),\n",
        "\n",
        "    Conv2D(256, (3, 3), activation='relu', padding='same'),\n",
        "    BatchNormalization(),\n",
        "    Conv2D(256, (3, 3), activation='relu', padding='same'),\n",
        "    BatchNormalization(),\n",
        "    MaxPooling2D((2, 2)),\n",
        "    Dropout(0.25),\n",
        "\n",
        "    Conv2D(512, (3, 3), activation='relu', padding='same'),\n",
        "    BatchNormalization(),\n",
        "    Conv2D(512, (3, 3), activation='relu', padding='same'),\n",
        "    BatchNormalization(),\n",
        "    GlobalAveragePooling2D(),\n",
        "    Dropout(0.5),\n",
        "\n",
        "    Dense(512, activation='relu'),\n",
        "    BatchNormalization(),\n",
        "    Dropout(0.5),\n",
        "    Dense(256, activation='relu'),\n",
        "    BatchNormalization(),\n",
        "    Dropout(0.5),\n",
        "    Dense(8, activation='softmax')\n",
        "])\n",
        "\n",
        "age_model.summary()\n"
      ]
    },
    {
      "cell_type": "markdown",
      "metadata": {
        "id": "AJMQSkS-w3WI"
      },
      "source": [
        "В итоге получаем 5_092_168  весов."
      ]
    },
    {
      "cell_type": "code",
      "execution_count": null,
      "metadata": {
        "colab": {
          "base_uri": "https://localhost:8080/",
          "height": 634
        },
        "id": "7jgSG9BklIAW",
        "outputId": "8864e9fa-4abb-4819-d437-2c78db5b24e5"
      },
      "outputs": [
        {
          "name": "stdout",
          "output_type": "stream",
          "text": [
            "Epoch 1/50\n"
          ]
        },
        {
          "ename": "ValueError",
          "evalue": "in user code:\n\n    File \"/usr/local/lib/python3.10/dist-packages/keras/src/engine/training.py\", line 1401, in train_function  *\n        return step_function(self, iterator)\n    File \"/usr/local/lib/python3.10/dist-packages/keras/src/engine/training.py\", line 1384, in step_function  **\n        outputs = model.distribute_strategy.run(run_step, args=(data,))\n    File \"/usr/local/lib/python3.10/dist-packages/keras/src/engine/training.py\", line 1373, in run_step  **\n        outputs = model.train_step(data)\n    File \"/usr/local/lib/python3.10/dist-packages/keras/src/engine/training.py\", line 1150, in train_step\n        y_pred = self(x, training=True)\n    File \"/usr/local/lib/python3.10/dist-packages/keras/src/utils/traceback_utils.py\", line 70, in error_handler\n        raise e.with_traceback(filtered_tb) from None\n    File \"/usr/local/lib/python3.10/dist-packages/keras/src/engine/input_spec.py\", line 298, in assert_input_compatibility\n        raise ValueError(\n\n    ValueError: Input 0 of layer \"sequential_1\" is incompatible with the layer: expected shape=(None, 128, 128, 3), found shape=(128, 128, 3)\n",
          "output_type": "error",
          "traceback": [
            "\u001b[0;31m---------------------------------------------------------------------------\u001b[0m",
            "\u001b[0;31mValueError\u001b[0m                                Traceback (most recent call last)",
            "\u001b[0;32m<ipython-input-58-4c97beeab8fb>\u001b[0m in \u001b[0;36m<cell line: 4>\u001b[0;34m()\u001b[0m\n\u001b[1;32m      2\u001b[0m \u001b[0mcallback\u001b[0m \u001b[0;34m=\u001b[0m \u001b[0mtf\u001b[0m\u001b[0;34m.\u001b[0m\u001b[0mkeras\u001b[0m\u001b[0;34m.\u001b[0m\u001b[0mcallbacks\u001b[0m\u001b[0;34m.\u001b[0m\u001b[0mEarlyStopping\u001b[0m\u001b[0;34m(\u001b[0m\u001b[0mmonitor\u001b[0m\u001b[0;34m=\u001b[0m\u001b[0;34m'accuracy'\u001b[0m\u001b[0;34m,\u001b[0m \u001b[0mpatience\u001b[0m\u001b[0;34m=\u001b[0m\u001b[0;36m5\u001b[0m\u001b[0;34m)\u001b[0m \u001b[0;31m# функция для остановки, если accuracy не улучшается на протяжении 5 эпох\u001b[0m\u001b[0;34m\u001b[0m\u001b[0;34m\u001b[0m\u001b[0m\n\u001b[1;32m      3\u001b[0m \u001b[0mage_model\u001b[0m\u001b[0;34m.\u001b[0m\u001b[0mcompile\u001b[0m\u001b[0;34m(\u001b[0m\u001b[0moptimizer\u001b[0m\u001b[0;34m=\u001b[0m\u001b[0;34m'adam'\u001b[0m\u001b[0;34m,\u001b[0m \u001b[0mloss\u001b[0m\u001b[0;34m=\u001b[0m\u001b[0mtf\u001b[0m\u001b[0;34m.\u001b[0m\u001b[0mkeras\u001b[0m\u001b[0;34m.\u001b[0m\u001b[0mlosses\u001b[0m\u001b[0;34m.\u001b[0m\u001b[0mSparseCategoricalCrossentropy\u001b[0m\u001b[0;34m(\u001b[0m\u001b[0;34m)\u001b[0m\u001b[0;34m,\u001b[0m \u001b[0mmetrics\u001b[0m\u001b[0;34m=\u001b[0m\u001b[0;34m[\u001b[0m\u001b[0;34m'accuracy'\u001b[0m\u001b[0;34m]\u001b[0m\u001b[0;34m)\u001b[0m\u001b[0;34m\u001b[0m\u001b[0;34m\u001b[0m\u001b[0m\n\u001b[0;32m----> 4\u001b[0;31m history_age = age_model.fit(train_dataset, epochs=50,\n\u001b[0m\u001b[1;32m      5\u001b[0m                     validation_data=test_dataset, callbacks=[callback])\n\u001b[1;32m      6\u001b[0m \u001b[0;34m\u001b[0m\u001b[0m\n",
            "\u001b[0;32m/usr/local/lib/python3.10/dist-packages/keras/src/utils/traceback_utils.py\u001b[0m in \u001b[0;36merror_handler\u001b[0;34m(*args, **kwargs)\u001b[0m\n\u001b[1;32m     68\u001b[0m             \u001b[0;31m# To get the full stack trace, call:\u001b[0m\u001b[0;34m\u001b[0m\u001b[0;34m\u001b[0m\u001b[0m\n\u001b[1;32m     69\u001b[0m             \u001b[0;31m# `tf.debugging.disable_traceback_filtering()`\u001b[0m\u001b[0;34m\u001b[0m\u001b[0;34m\u001b[0m\u001b[0m\n\u001b[0;32m---> 70\u001b[0;31m             \u001b[0;32mraise\u001b[0m \u001b[0me\u001b[0m\u001b[0;34m.\u001b[0m\u001b[0mwith_traceback\u001b[0m\u001b[0;34m(\u001b[0m\u001b[0mfiltered_tb\u001b[0m\u001b[0;34m)\u001b[0m \u001b[0;32mfrom\u001b[0m \u001b[0;32mNone\u001b[0m\u001b[0;34m\u001b[0m\u001b[0;34m\u001b[0m\u001b[0m\n\u001b[0m\u001b[1;32m     71\u001b[0m         \u001b[0;32mfinally\u001b[0m\u001b[0;34m:\u001b[0m\u001b[0;34m\u001b[0m\u001b[0;34m\u001b[0m\u001b[0m\n\u001b[1;32m     72\u001b[0m             \u001b[0;32mdel\u001b[0m \u001b[0mfiltered_tb\u001b[0m\u001b[0;34m\u001b[0m\u001b[0;34m\u001b[0m\u001b[0m\n",
            "\u001b[0;32m/usr/local/lib/python3.10/dist-packages/keras/src/engine/training.py\u001b[0m in \u001b[0;36mtf__train_function\u001b[0;34m(iterator)\u001b[0m\n\u001b[1;32m     13\u001b[0m                 \u001b[0;32mtry\u001b[0m\u001b[0;34m:\u001b[0m\u001b[0;34m\u001b[0m\u001b[0;34m\u001b[0m\u001b[0m\n\u001b[1;32m     14\u001b[0m                     \u001b[0mdo_return\u001b[0m \u001b[0;34m=\u001b[0m \u001b[0;32mTrue\u001b[0m\u001b[0;34m\u001b[0m\u001b[0;34m\u001b[0m\u001b[0m\n\u001b[0;32m---> 15\u001b[0;31m                     \u001b[0mretval_\u001b[0m \u001b[0;34m=\u001b[0m \u001b[0mag__\u001b[0m\u001b[0;34m.\u001b[0m\u001b[0mconverted_call\u001b[0m\u001b[0;34m(\u001b[0m\u001b[0mag__\u001b[0m\u001b[0;34m.\u001b[0m\u001b[0mld\u001b[0m\u001b[0;34m(\u001b[0m\u001b[0mstep_function\u001b[0m\u001b[0;34m)\u001b[0m\u001b[0;34m,\u001b[0m \u001b[0;34m(\u001b[0m\u001b[0mag__\u001b[0m\u001b[0;34m.\u001b[0m\u001b[0mld\u001b[0m\u001b[0;34m(\u001b[0m\u001b[0mself\u001b[0m\u001b[0;34m)\u001b[0m\u001b[0;34m,\u001b[0m \u001b[0mag__\u001b[0m\u001b[0;34m.\u001b[0m\u001b[0mld\u001b[0m\u001b[0;34m(\u001b[0m\u001b[0miterator\u001b[0m\u001b[0;34m)\u001b[0m\u001b[0;34m)\u001b[0m\u001b[0;34m,\u001b[0m \u001b[0;32mNone\u001b[0m\u001b[0;34m,\u001b[0m \u001b[0mfscope\u001b[0m\u001b[0;34m)\u001b[0m\u001b[0;34m\u001b[0m\u001b[0;34m\u001b[0m\u001b[0m\n\u001b[0m\u001b[1;32m     16\u001b[0m                 \u001b[0;32mexcept\u001b[0m\u001b[0;34m:\u001b[0m\u001b[0;34m\u001b[0m\u001b[0;34m\u001b[0m\u001b[0m\n\u001b[1;32m     17\u001b[0m                     \u001b[0mdo_return\u001b[0m \u001b[0;34m=\u001b[0m \u001b[0;32mFalse\u001b[0m\u001b[0;34m\u001b[0m\u001b[0;34m\u001b[0m\u001b[0m\n",
            "\u001b[0;31mValueError\u001b[0m: in user code:\n\n    File \"/usr/local/lib/python3.10/dist-packages/keras/src/engine/training.py\", line 1401, in train_function  *\n        return step_function(self, iterator)\n    File \"/usr/local/lib/python3.10/dist-packages/keras/src/engine/training.py\", line 1384, in step_function  **\n        outputs = model.distribute_strategy.run(run_step, args=(data,))\n    File \"/usr/local/lib/python3.10/dist-packages/keras/src/engine/training.py\", line 1373, in run_step  **\n        outputs = model.train_step(data)\n    File \"/usr/local/lib/python3.10/dist-packages/keras/src/engine/training.py\", line 1150, in train_step\n        y_pred = self(x, training=True)\n    File \"/usr/local/lib/python3.10/dist-packages/keras/src/utils/traceback_utils.py\", line 70, in error_handler\n        raise e.with_traceback(filtered_tb) from None\n    File \"/usr/local/lib/python3.10/dist-packages/keras/src/engine/input_spec.py\", line 298, in assert_input_compatibility\n        raise ValueError(\n\n    ValueError: Input 0 of layer \"sequential_1\" is incompatible with the layer: expected shape=(None, 128, 128, 3), found shape=(128, 128, 3)\n"
          ]
        }
      ],
      "source": [
        "# Тренировка модели предсказания возраста\n",
        "callback = tf.keras.callbacks.EarlyStopping(monitor='accuracy', patience=5) # функция для остановки, если accuracy не улучшается на протяжении 5 эпох\n",
        "age_model.compile(optimizer='adam', loss=tf.keras.losses.SparseCategoricalCrossentropy(), metrics=['accuracy'])\n",
        "history_age = age_model.fit(train_dataset, epochs=50,\n",
        "                    validation_data=test_dataset, callbacks=[callback])\n",
        "\n",
        "age_model.save('age_model50.h5')\n"
      ]
    },
    {
      "cell_type": "markdown",
      "metadata": {
        "id": "fNn8oAEvwxSl"
      },
      "source": [
        "После тренировки нейросети рисуем график истории ее обучения"
      ]
    },
    {
      "cell_type": "code",
      "execution_count": null,
      "metadata": {
        "id": "LOvSw0p6qL9k"
      },
      "outputs": [],
      "source": [
        "# Получаем данные обучения из history\n",
        "acc = history_age.history['accuracy']\n",
        "val_acc = history_age.history['val_accuracy']\n",
        "loss = history_age.history['loss']\n",
        "val_loss = history_age.history['val_loss']\n",
        "epochs = range(1, len(acc) + 1)\n",
        "\n",
        "# Строим график точности\n",
        "plt.figure(figsize=(12, 6))\n",
        "plt.subplot(1, 2, 1)\n",
        "plt.plot(epochs, acc, 'bo', label='Training acc')\n",
        "plt.plot(epochs, val_acc, 'b', label='Validation acc')\n",
        "plt.title('Training and validation accuracy')\n",
        "plt.xlabel('Epochs')\n",
        "plt.ylabel('Accuracy')\n",
        "plt.legend()\n",
        "\n",
        "# Строим график потерь\n",
        "plt.subplot(1, 2, 2)\n",
        "plt.plot(epochs, loss, 'bo', label='Training loss')\n",
        "plt.plot(epochs, val_loss, 'b', label='Validation loss')\n",
        "plt.title('Training and validation loss')\n",
        "plt.xlabel('Epochs')\n",
        "plt.ylabel('Loss')\n",
        "plt.legend()\n"
      ]
    },
    {
      "cell_type": "code",
      "execution_count": null,
      "metadata": {},
      "outputs": [],
      "source": [
        "from google.colab import drive\n",
        "drive.mount('/content/drive')\n",
        "age_model.save('/content/drive/MyDrive/age_model50.h5')\n"
      ]
    },
    {
      "cell_type": "markdown",
      "metadata": {
        "id": "Z0zvIufHg6pC"
      },
      "source": [
        "### Модель №2\n"
      ]
    },
    {
      "cell_type": "code",
      "execution_count": 9,
      "metadata": {
        "colab": {
          "base_uri": "https://localhost:8080/"
        },
        "id": "xXqmmxOWg6Kp",
        "outputId": "e129b5d3-4cdf-40a6-d9d1-5757a5b9f033"
      },
      "outputs": [
        {
          "name": "stdout",
          "output_type": "stream",
          "text": [
            "Model: \"sequential_1\"\n",
            "_________________________________________________________________\n",
            " Layer (type)                Output Shape              Param #   \n",
            "=================================================================\n",
            " efficientnetb0 (Functional  (None, 4, 4, 1280)        4049571   \n",
            " )                                                               \n",
            "                                                                 \n",
            " global_average_pooling2d_1  (None, 1280)              0         \n",
            "  (GlobalAveragePooling2D)                                       \n",
            "                                                                 \n",
            " dense_3 (Dense)             (None, 256)               327936    \n",
            "                                                                 \n",
            " dropout_2 (Dropout)         (None, 256)               0         \n",
            "                                                                 \n",
            " dense_4 (Dense)             (None, 128)               32896     \n",
            "                                                                 \n",
            " dropout_3 (Dropout)         (None, 128)               0         \n",
            "                                                                 \n",
            " dense_5 (Dense)             (None, 8)                 1032      \n",
            "                                                                 \n",
            "=================================================================\n",
            "Total params: 4411435 (16.83 MB)\n",
            "Trainable params: 361864 (1.38 MB)\n",
            "Non-trainable params: 4049571 (15.45 MB)\n",
            "_________________________________________________________________\n"
          ]
        }
      ],
      "source": [
        "from tensorflow.keras.applications import EfficientNetB0\n",
        "from tensorflow.keras.layers import SeparableConv2D, GlobalAveragePooling2D, Dense, Dropout\n",
        "from tensorflow.keras.models import Sequential\n",
        "from tensorflow.keras.regularizers import l2\n",
        "\n",
        "base_model = EfficientNetB0(\n",
        "    weights='imagenet', include_top=False, input_shape=(128, 128, 3))\n",
        "base_model.trainable = False  # Freeze the base model\n",
        "\n",
        "age_model3 = Sequential([\n",
        "    base_model,\n",
        "    GlobalAveragePooling2D(),\n",
        "    Dense(256, activation='relu', kernel_regularizer=l2(0.01)),\n",
        "    Dropout(0.5),\n",
        "    Dense(128, activation='relu', kernel_regularizer=l2(0.01)),\n",
        "    Dropout(0.5),\n",
        "    Dense(8, activation='softmax')\n",
        "])\n",
        "\n",
        "age_model3.summary()\n"
      ]
    },
    {
      "cell_type": "code",
      "execution_count": 12,
      "metadata": {},
      "outputs": [
        {
          "data": {
            "text/plain": [
              "[PhysicalDevice(name='/physical_device:CPU:0', device_type='CPU')]"
            ]
          },
          "execution_count": 12,
          "metadata": {},
          "output_type": "execute_result"
        }
      ],
      "source": [
        "tf.config.list_physical_devices()\n"
      ]
    },
    {
      "cell_type": "code",
      "execution_count": 13,
      "metadata": {
        "colab": {
          "base_uri": "https://localhost:8080/",
          "height": 634
        },
        "id": "RLDgCRbDhCxw",
        "outputId": "979c210f-6810-4414-fee1-7ec1f3c63512"
      },
      "outputs": [
        {
          "name": "stdout",
          "output_type": "stream",
          "text": [
            "Epoch 1/50\n",
            "382/382 [==============================] - 103s 249ms/step - loss: 1.7391 - accuracy: 0.4243 - val_loss: 1.5811 - val_accuracy: 0.4626 - lr: 0.0010\n",
            "Epoch 2/50\n",
            "382/382 [==============================] - 92s 242ms/step - loss: 1.6502 - accuracy: 0.4299 - val_loss: 1.5501 - val_accuracy: 0.4542 - lr: 0.0010\n",
            "Epoch 3/50\n",
            "382/382 [==============================] - 93s 244ms/step - loss: 1.6250 - accuracy: 0.4378 - val_loss: 1.5412 - val_accuracy: 0.4650 - lr: 0.0010\n",
            "Epoch 4/50\n",
            "382/382 [==============================] - 92s 242ms/step - loss: 1.6124 - accuracy: 0.4395 - val_loss: 1.5277 - val_accuracy: 0.4710 - lr: 0.0010\n",
            "Epoch 5/50\n",
            "382/382 [==============================] - 93s 243ms/step - loss: 1.6092 - accuracy: 0.4391 - val_loss: 1.5272 - val_accuracy: 0.4668 - lr: 0.0010\n",
            "Epoch 6/50\n",
            "382/382 [==============================] - 92s 240ms/step - loss: 1.6048 - accuracy: 0.4438 - val_loss: 1.5246 - val_accuracy: 0.4624 - lr: 0.0010\n",
            "Epoch 7/50\n",
            "382/382 [==============================] - 93s 245ms/step - loss: 1.5998 - accuracy: 0.4498 - val_loss: 1.5220 - val_accuracy: 0.4629 - lr: 0.0010\n",
            "Epoch 8/50\n",
            "382/382 [==============================] - 98s 257ms/step - loss: 1.5963 - accuracy: 0.4425 - val_loss: 1.5258 - val_accuracy: 0.4660 - lr: 0.0010\n",
            "Epoch 9/50\n",
            "382/382 [==============================] - 108s 284ms/step - loss: 1.6000 - accuracy: 0.4431 - val_loss: 1.5215 - val_accuracy: 0.4714 - lr: 0.0010\n",
            "Epoch 10/50\n",
            "382/382 [==============================] - 100s 263ms/step - loss: 1.5943 - accuracy: 0.4438 - val_loss: 1.5144 - val_accuracy: 0.4641 - lr: 0.0010\n",
            "Epoch 11/50\n",
            "382/382 [==============================] - 98s 257ms/step - loss: 1.5895 - accuracy: 0.4468 - val_loss: 1.5144 - val_accuracy: 0.4727 - lr: 0.0010\n",
            "Epoch 12/50\n",
            "382/382 [==============================] - 114s 299ms/step - loss: 1.5924 - accuracy: 0.4418 - val_loss: 1.5192 - val_accuracy: 0.4624 - lr: 0.0010\n",
            "Epoch 13/50\n",
            "382/382 [==============================] - 104s 272ms/step - loss: 1.5827 - accuracy: 0.4513 - val_loss: 1.5148 - val_accuracy: 0.4759 - lr: 0.0010\n",
            "Epoch 14/50\n",
            "382/382 [==============================] - 100s 261ms/step - loss: 1.5824 - accuracy: 0.4481 - val_loss: 1.5033 - val_accuracy: 0.4731 - lr: 0.0010\n",
            "Epoch 15/50\n",
            "382/382 [==============================] - 97s 255ms/step - loss: 1.5823 - accuracy: 0.4485 - val_loss: 1.5092 - val_accuracy: 0.4687 - lr: 0.0010\n",
            "Epoch 16/50\n",
            "382/382 [==============================] - 98s 256ms/step - loss: 1.5843 - accuracy: 0.4496 - val_loss: 1.5054 - val_accuracy: 0.4672 - lr: 0.0010\n",
            "Epoch 17/50\n",
            "382/382 [==============================] - 104s 272ms/step - loss: 1.5831 - accuracy: 0.4526 - val_loss: 1.5201 - val_accuracy: 0.4624 - lr: 0.0010\n",
            "Epoch 18/50\n",
            "382/382 [==============================] - 98s 256ms/step - loss: 1.5773 - accuracy: 0.4488 - val_loss: 1.5052 - val_accuracy: 0.4767 - lr: 0.0010\n",
            "Epoch 19/50\n",
            "382/382 [==============================] - 107s 282ms/step - loss: 1.5793 - accuracy: 0.4560 - val_loss: 1.5023 - val_accuracy: 0.4780 - lr: 0.0010\n",
            "Epoch 20/50\n",
            "382/382 [==============================] - 97s 255ms/step - loss: 1.5845 - accuracy: 0.4516 - val_loss: 1.5042 - val_accuracy: 0.4708 - lr: 0.0010\n",
            "Epoch 21/50\n",
            "382/382 [==============================] - 97s 253ms/step - loss: 1.5778 - accuracy: 0.4513 - val_loss: 1.5108 - val_accuracy: 0.4748 - lr: 0.0010\n",
            "Epoch 22/50\n",
            "382/382 [==============================] - 103s 271ms/step - loss: 1.5788 - accuracy: 0.4524 - val_loss: 1.5081 - val_accuracy: 0.4683 - lr: 0.0010\n",
            "Epoch 23/50\n",
            "382/382 [==============================] - 112s 294ms/step - loss: 1.5722 - accuracy: 0.4528 - val_loss: 1.4994 - val_accuracy: 0.4817 - lr: 0.0010\n",
            "Epoch 24/50\n",
            "382/382 [==============================] - 102s 268ms/step - loss: 1.5772 - accuracy: 0.4499 - val_loss: 1.4964 - val_accuracy: 0.4754 - lr: 0.0010\n",
            "Epoch 25/50\n",
            "382/382 [==============================] - 91s 239ms/step - loss: 1.5739 - accuracy: 0.4539 - val_loss: 1.4949 - val_accuracy: 0.4731 - lr: 0.0010\n",
            "Epoch 26/50\n",
            "382/382 [==============================] - 93s 244ms/step - loss: 1.5689 - accuracy: 0.4524 - val_loss: 1.4966 - val_accuracy: 0.4683 - lr: 0.0010\n",
            "Epoch 27/50\n",
            "382/382 [==============================] - 95s 248ms/step - loss: 1.5738 - accuracy: 0.4496 - val_loss: 1.5027 - val_accuracy: 0.4738 - lr: 0.0010\n",
            "Epoch 28/50\n",
            "382/382 [==============================] - 91s 237ms/step - loss: 1.5683 - accuracy: 0.4509 - val_loss: 1.4885 - val_accuracy: 0.4817 - lr: 0.0010\n",
            "Epoch 29/50\n",
            "382/382 [==============================] - 113s 296ms/step - loss: 1.5636 - accuracy: 0.4533 - val_loss: 1.4905 - val_accuracy: 0.4750 - lr: 0.0010\n",
            "Epoch 30/50\n",
            "382/382 [==============================] - 108s 283ms/step - loss: 1.5624 - accuracy: 0.4546 - val_loss: 1.4808 - val_accuracy: 0.4882 - lr: 0.0010\n",
            "Epoch 31/50\n",
            "382/382 [==============================] - 94s 246ms/step - loss: 1.5650 - accuracy: 0.4530 - val_loss: 1.4800 - val_accuracy: 0.4851 - lr: 0.0010\n",
            "Epoch 32/50\n",
            "382/382 [==============================] - 99s 260ms/step - loss: 1.5701 - accuracy: 0.4474 - val_loss: 1.4893 - val_accuracy: 0.4752 - lr: 0.0010\n",
            "Epoch 33/50\n",
            "382/382 [==============================] - 99s 260ms/step - loss: 1.5588 - accuracy: 0.4524 - val_loss: 1.4853 - val_accuracy: 0.4841 - lr: 0.0010\n",
            "Epoch 34/50\n",
            "382/382 [==============================] - 98s 257ms/step - loss: 1.5701 - accuracy: 0.4501 - val_loss: 1.4866 - val_accuracy: 0.4788 - lr: 0.0010\n",
            "Epoch 35/50\n",
            "382/382 [==============================] - 100s 262ms/step - loss: 1.5601 - accuracy: 0.4545 - val_loss: 1.4826 - val_accuracy: 0.4838 - lr: 0.0010\n",
            "Epoch 36/50\n",
            "382/382 [==============================] - 103s 269ms/step - loss: 1.5527 - accuracy: 0.4555 - val_loss: 1.4868 - val_accuracy: 0.4771 - lr: 0.0010\n",
            "Epoch 37/50\n",
            "382/382 [==============================] - 129s 338ms/step - loss: 1.4852 - accuracy: 0.4804 - val_loss: 1.4130 - val_accuracy: 0.4968 - lr: 2.0000e-04\n",
            "Epoch 38/50\n",
            "382/382 [==============================] - 130s 342ms/step - loss: 1.4454 - accuracy: 0.4892 - val_loss: 1.3952 - val_accuracy: 0.5021 - lr: 2.0000e-04\n",
            "Epoch 39/50\n",
            "382/382 [==============================] - ETA: 0s - loss: 1.4186 - accuracy: 0.4902"
          ]
        },
        {
          "ename": "KeyboardInterrupt",
          "evalue": "",
          "output_type": "error",
          "traceback": [
            "\u001b[1;31m---------------------------------------------------------------------------\u001b[0m",
            "\u001b[1;31mKeyboardInterrupt\u001b[0m                         Traceback (most recent call last)",
            "Cell \u001b[1;32mIn[13], line 11\u001b[0m\n\u001b[0;32m      8\u001b[0m reduce_lr \u001b[38;5;241m=\u001b[39m ReduceLROnPlateau(monitor\u001b[38;5;241m=\u001b[39m\u001b[38;5;124m'\u001b[39m\u001b[38;5;124mval_loss\u001b[39m\u001b[38;5;124m'\u001b[39m, factor\u001b[38;5;241m=\u001b[39m\u001b[38;5;241m0.2\u001b[39m, patience\u001b[38;5;241m=\u001b[39m\u001b[38;5;241m5\u001b[39m, min_lr\u001b[38;5;241m=\u001b[39m\u001b[38;5;241m0.00001\u001b[39m)\n\u001b[0;32m      9\u001b[0m early_stop \u001b[38;5;241m=\u001b[39m EarlyStopping(monitor\u001b[38;5;241m=\u001b[39m\u001b[38;5;124m'\u001b[39m\u001b[38;5;124mval_loss\u001b[39m\u001b[38;5;124m'\u001b[39m, patience\u001b[38;5;241m=\u001b[39m\u001b[38;5;241m10\u001b[39m, restore_best_weights\u001b[38;5;241m=\u001b[39m\u001b[38;5;28;01mTrue\u001b[39;00m)\n\u001b[1;32m---> 11\u001b[0m history_age3 \u001b[38;5;241m=\u001b[39m \u001b[43mage_model3\u001b[49m\u001b[38;5;241;43m.\u001b[39;49m\u001b[43mfit\u001b[49m\u001b[43m(\u001b[49m\n\u001b[0;32m     12\u001b[0m \u001b[43m    \u001b[49m\u001b[43mtrain_dataset\u001b[49m\u001b[43m,\u001b[49m\n\u001b[0;32m     13\u001b[0m \u001b[43m    \u001b[49m\u001b[43mvalidation_data\u001b[49m\u001b[38;5;241;43m=\u001b[39;49m\u001b[43mtest_dataset\u001b[49m\u001b[43m,\u001b[49m\n\u001b[0;32m     14\u001b[0m \u001b[43m    \u001b[49m\u001b[43mepochs\u001b[49m\u001b[38;5;241;43m=\u001b[39;49m\u001b[38;5;241;43m50\u001b[39;49m\u001b[43m,\u001b[49m\n\u001b[0;32m     15\u001b[0m \u001b[43m    \u001b[49m\u001b[43mcallbacks\u001b[49m\u001b[38;5;241;43m=\u001b[39;49m\u001b[43m[\u001b[49m\u001b[43mreduce_lr\u001b[49m\u001b[43m,\u001b[49m\u001b[43m \u001b[49m\u001b[43mearly_stop\u001b[49m\u001b[43m]\u001b[49m\n\u001b[0;32m     16\u001b[0m \u001b[43m)\u001b[49m\n\u001b[0;32m     18\u001b[0m age_model3\u001b[38;5;241m.\u001b[39msave(\u001b[38;5;124m'\u001b[39m\u001b[38;5;124mage_model3_50.h5\u001b[39m\u001b[38;5;124m'\u001b[39m)\n",
            "File \u001b[1;32m~\\AppData\\Roaming\\Python\\Python311\\site-packages\\keras\\src\\utils\\traceback_utils.py:65\u001b[0m, in \u001b[0;36mfilter_traceback.<locals>.error_handler\u001b[1;34m(*args, **kwargs)\u001b[0m\n\u001b[0;32m     63\u001b[0m filtered_tb \u001b[38;5;241m=\u001b[39m \u001b[38;5;28;01mNone\u001b[39;00m\n\u001b[0;32m     64\u001b[0m \u001b[38;5;28;01mtry\u001b[39;00m:\n\u001b[1;32m---> 65\u001b[0m     \u001b[38;5;28;01mreturn\u001b[39;00m \u001b[43mfn\u001b[49m\u001b[43m(\u001b[49m\u001b[38;5;241;43m*\u001b[39;49m\u001b[43margs\u001b[49m\u001b[43m,\u001b[49m\u001b[43m \u001b[49m\u001b[38;5;241;43m*\u001b[39;49m\u001b[38;5;241;43m*\u001b[39;49m\u001b[43mkwargs\u001b[49m\u001b[43m)\u001b[49m\n\u001b[0;32m     66\u001b[0m \u001b[38;5;28;01mexcept\u001b[39;00m \u001b[38;5;167;01mException\u001b[39;00m \u001b[38;5;28;01mas\u001b[39;00m e:\n\u001b[0;32m     67\u001b[0m     filtered_tb \u001b[38;5;241m=\u001b[39m _process_traceback_frames(e\u001b[38;5;241m.\u001b[39m__traceback__)\n",
            "File \u001b[1;32m~\\AppData\\Roaming\\Python\\Python311\\site-packages\\keras\\src\\engine\\training.py:1856\u001b[0m, in \u001b[0;36mModel.fit\u001b[1;34m(self, x, y, batch_size, epochs, verbose, callbacks, validation_split, validation_data, shuffle, class_weight, sample_weight, initial_epoch, steps_per_epoch, validation_steps, validation_batch_size, validation_freq, max_queue_size, workers, use_multiprocessing)\u001b[0m\n\u001b[0;32m   1840\u001b[0m \u001b[38;5;28;01mif\u001b[39;00m \u001b[38;5;28mgetattr\u001b[39m(\u001b[38;5;28mself\u001b[39m, \u001b[38;5;124m\"\u001b[39m\u001b[38;5;124m_eval_data_handler\u001b[39m\u001b[38;5;124m\"\u001b[39m, \u001b[38;5;28;01mNone\u001b[39;00m) \u001b[38;5;129;01mis\u001b[39;00m \u001b[38;5;28;01mNone\u001b[39;00m:\n\u001b[0;32m   1841\u001b[0m     \u001b[38;5;28mself\u001b[39m\u001b[38;5;241m.\u001b[39m_eval_data_handler \u001b[38;5;241m=\u001b[39m data_adapter\u001b[38;5;241m.\u001b[39mget_data_handler(\n\u001b[0;32m   1842\u001b[0m         x\u001b[38;5;241m=\u001b[39mval_x,\n\u001b[0;32m   1843\u001b[0m         y\u001b[38;5;241m=\u001b[39mval_y,\n\u001b[1;32m   (...)\u001b[0m\n\u001b[0;32m   1854\u001b[0m         pss_evaluation_shards\u001b[38;5;241m=\u001b[39m\u001b[38;5;28mself\u001b[39m\u001b[38;5;241m.\u001b[39m_pss_evaluation_shards,\n\u001b[0;32m   1855\u001b[0m     )\n\u001b[1;32m-> 1856\u001b[0m val_logs \u001b[38;5;241m=\u001b[39m \u001b[38;5;28;43mself\u001b[39;49m\u001b[38;5;241;43m.\u001b[39;49m\u001b[43mevaluate\u001b[49m\u001b[43m(\u001b[49m\n\u001b[0;32m   1857\u001b[0m \u001b[43m    \u001b[49m\u001b[43mx\u001b[49m\u001b[38;5;241;43m=\u001b[39;49m\u001b[43mval_x\u001b[49m\u001b[43m,\u001b[49m\n\u001b[0;32m   1858\u001b[0m \u001b[43m    \u001b[49m\u001b[43my\u001b[49m\u001b[38;5;241;43m=\u001b[39;49m\u001b[43mval_y\u001b[49m\u001b[43m,\u001b[49m\n\u001b[0;32m   1859\u001b[0m \u001b[43m    \u001b[49m\u001b[43msample_weight\u001b[49m\u001b[38;5;241;43m=\u001b[39;49m\u001b[43mval_sample_weight\u001b[49m\u001b[43m,\u001b[49m\n\u001b[0;32m   1860\u001b[0m \u001b[43m    \u001b[49m\u001b[43mbatch_size\u001b[49m\u001b[38;5;241;43m=\u001b[39;49m\u001b[43mvalidation_batch_size\u001b[49m\u001b[43m \u001b[49m\u001b[38;5;129;43;01mor\u001b[39;49;00m\u001b[43m \u001b[49m\u001b[43mbatch_size\u001b[49m\u001b[43m,\u001b[49m\n\u001b[0;32m   1861\u001b[0m \u001b[43m    \u001b[49m\u001b[43msteps\u001b[49m\u001b[38;5;241;43m=\u001b[39;49m\u001b[43mvalidation_steps\u001b[49m\u001b[43m,\u001b[49m\n\u001b[0;32m   1862\u001b[0m \u001b[43m    \u001b[49m\u001b[43mcallbacks\u001b[49m\u001b[38;5;241;43m=\u001b[39;49m\u001b[43mcallbacks\u001b[49m\u001b[43m,\u001b[49m\n\u001b[0;32m   1863\u001b[0m \u001b[43m    \u001b[49m\u001b[43mmax_queue_size\u001b[49m\u001b[38;5;241;43m=\u001b[39;49m\u001b[43mmax_queue_size\u001b[49m\u001b[43m,\u001b[49m\n\u001b[0;32m   1864\u001b[0m \u001b[43m    \u001b[49m\u001b[43mworkers\u001b[49m\u001b[38;5;241;43m=\u001b[39;49m\u001b[43mworkers\u001b[49m\u001b[43m,\u001b[49m\n\u001b[0;32m   1865\u001b[0m \u001b[43m    \u001b[49m\u001b[43muse_multiprocessing\u001b[49m\u001b[38;5;241;43m=\u001b[39;49m\u001b[43muse_multiprocessing\u001b[49m\u001b[43m,\u001b[49m\n\u001b[0;32m   1866\u001b[0m \u001b[43m    \u001b[49m\u001b[43mreturn_dict\u001b[49m\u001b[38;5;241;43m=\u001b[39;49m\u001b[38;5;28;43;01mTrue\u001b[39;49;00m\u001b[43m,\u001b[49m\n\u001b[0;32m   1867\u001b[0m \u001b[43m    \u001b[49m\u001b[43m_use_cached_eval_dataset\u001b[49m\u001b[38;5;241;43m=\u001b[39;49m\u001b[38;5;28;43;01mTrue\u001b[39;49;00m\u001b[43m,\u001b[49m\n\u001b[0;32m   1868\u001b[0m \u001b[43m\u001b[49m\u001b[43m)\u001b[49m\n\u001b[0;32m   1869\u001b[0m val_logs \u001b[38;5;241m=\u001b[39m {\n\u001b[0;32m   1870\u001b[0m     \u001b[38;5;124m\"\u001b[39m\u001b[38;5;124mval_\u001b[39m\u001b[38;5;124m\"\u001b[39m \u001b[38;5;241m+\u001b[39m name: val \u001b[38;5;28;01mfor\u001b[39;00m name, val \u001b[38;5;129;01min\u001b[39;00m val_logs\u001b[38;5;241m.\u001b[39mitems()\n\u001b[0;32m   1871\u001b[0m }\n\u001b[0;32m   1872\u001b[0m epoch_logs\u001b[38;5;241m.\u001b[39mupdate(val_logs)\n",
            "File \u001b[1;32m~\\AppData\\Roaming\\Python\\Python311\\site-packages\\keras\\src\\utils\\traceback_utils.py:65\u001b[0m, in \u001b[0;36mfilter_traceback.<locals>.error_handler\u001b[1;34m(*args, **kwargs)\u001b[0m\n\u001b[0;32m     63\u001b[0m filtered_tb \u001b[38;5;241m=\u001b[39m \u001b[38;5;28;01mNone\u001b[39;00m\n\u001b[0;32m     64\u001b[0m \u001b[38;5;28;01mtry\u001b[39;00m:\n\u001b[1;32m---> 65\u001b[0m     \u001b[38;5;28;01mreturn\u001b[39;00m \u001b[43mfn\u001b[49m\u001b[43m(\u001b[49m\u001b[38;5;241;43m*\u001b[39;49m\u001b[43margs\u001b[49m\u001b[43m,\u001b[49m\u001b[43m \u001b[49m\u001b[38;5;241;43m*\u001b[39;49m\u001b[38;5;241;43m*\u001b[39;49m\u001b[43mkwargs\u001b[49m\u001b[43m)\u001b[49m\n\u001b[0;32m     66\u001b[0m \u001b[38;5;28;01mexcept\u001b[39;00m \u001b[38;5;167;01mException\u001b[39;00m \u001b[38;5;28;01mas\u001b[39;00m e:\n\u001b[0;32m     67\u001b[0m     filtered_tb \u001b[38;5;241m=\u001b[39m _process_traceback_frames(e\u001b[38;5;241m.\u001b[39m__traceback__)\n",
            "File \u001b[1;32m~\\AppData\\Roaming\\Python\\Python311\\site-packages\\keras\\src\\engine\\training.py:2296\u001b[0m, in \u001b[0;36mModel.evaluate\u001b[1;34m(self, x, y, batch_size, verbose, sample_weight, steps, callbacks, max_queue_size, workers, use_multiprocessing, return_dict, **kwargs)\u001b[0m\n\u001b[0;32m   2292\u001b[0m             \u001b[38;5;28;01mwith\u001b[39;00m tf\u001b[38;5;241m.\u001b[39mprofiler\u001b[38;5;241m.\u001b[39mexperimental\u001b[38;5;241m.\u001b[39mTrace(\n\u001b[0;32m   2293\u001b[0m                 \u001b[38;5;124m\"\u001b[39m\u001b[38;5;124mtest\u001b[39m\u001b[38;5;124m\"\u001b[39m, step_num\u001b[38;5;241m=\u001b[39mstep, _r\u001b[38;5;241m=\u001b[39m\u001b[38;5;241m1\u001b[39m\n\u001b[0;32m   2294\u001b[0m             ):\n\u001b[0;32m   2295\u001b[0m                 callbacks\u001b[38;5;241m.\u001b[39mon_test_batch_begin(step)\n\u001b[1;32m-> 2296\u001b[0m                 logs \u001b[38;5;241m=\u001b[39m \u001b[43mtest_function_runner\u001b[49m\u001b[38;5;241;43m.\u001b[39;49m\u001b[43mrun_step\u001b[49m\u001b[43m(\u001b[49m\n\u001b[0;32m   2297\u001b[0m \u001b[43m                    \u001b[49m\u001b[43mdataset_or_iterator\u001b[49m\u001b[43m,\u001b[49m\n\u001b[0;32m   2298\u001b[0m \u001b[43m                    \u001b[49m\u001b[43mdata_handler\u001b[49m\u001b[43m,\u001b[49m\n\u001b[0;32m   2299\u001b[0m \u001b[43m                    \u001b[49m\u001b[43mstep\u001b[49m\u001b[43m,\u001b[49m\n\u001b[0;32m   2300\u001b[0m \u001b[43m                    \u001b[49m\u001b[38;5;28;43mself\u001b[39;49m\u001b[38;5;241;43m.\u001b[39;49m\u001b[43m_pss_evaluation_shards\u001b[49m\u001b[43m,\u001b[49m\n\u001b[0;32m   2301\u001b[0m \u001b[43m                \u001b[49m\u001b[43m)\u001b[49m\n\u001b[0;32m   2303\u001b[0m logs \u001b[38;5;241m=\u001b[39m tf_utils\u001b[38;5;241m.\u001b[39msync_to_numpy_or_python_type(logs)\n\u001b[0;32m   2304\u001b[0m \u001b[38;5;66;03m# Override with model metrics instead of last step logs\u001b[39;00m\n",
            "File \u001b[1;32m~\\AppData\\Roaming\\Python\\Python311\\site-packages\\keras\\src\\engine\\training.py:4108\u001b[0m, in \u001b[0;36m_TestFunction.run_step\u001b[1;34m(self, dataset_or_iterator, data_handler, step, unused_shards)\u001b[0m\n\u001b[0;32m   4107\u001b[0m \u001b[38;5;28;01mdef\u001b[39;00m \u001b[38;5;21mrun_step\u001b[39m(\u001b[38;5;28mself\u001b[39m, dataset_or_iterator, data_handler, step, unused_shards):\n\u001b[1;32m-> 4108\u001b[0m     tmp_logs \u001b[38;5;241m=\u001b[39m \u001b[38;5;28;43mself\u001b[39;49m\u001b[38;5;241;43m.\u001b[39;49m\u001b[43m_function\u001b[49m\u001b[43m(\u001b[49m\u001b[43mdataset_or_iterator\u001b[49m\u001b[43m)\u001b[49m\n\u001b[0;32m   4109\u001b[0m     \u001b[38;5;28;01mif\u001b[39;00m data_handler\u001b[38;5;241m.\u001b[39mshould_sync:\n\u001b[0;32m   4110\u001b[0m         context\u001b[38;5;241m.\u001b[39masync_wait()\n",
            "File \u001b[1;32m~\\AppData\\Roaming\\Python\\Python311\\site-packages\\tensorflow\\python\\util\\traceback_utils.py:150\u001b[0m, in \u001b[0;36mfilter_traceback.<locals>.error_handler\u001b[1;34m(*args, **kwargs)\u001b[0m\n\u001b[0;32m    148\u001b[0m filtered_tb \u001b[38;5;241m=\u001b[39m \u001b[38;5;28;01mNone\u001b[39;00m\n\u001b[0;32m    149\u001b[0m \u001b[38;5;28;01mtry\u001b[39;00m:\n\u001b[1;32m--> 150\u001b[0m   \u001b[38;5;28;01mreturn\u001b[39;00m \u001b[43mfn\u001b[49m\u001b[43m(\u001b[49m\u001b[38;5;241;43m*\u001b[39;49m\u001b[43margs\u001b[49m\u001b[43m,\u001b[49m\u001b[43m \u001b[49m\u001b[38;5;241;43m*\u001b[39;49m\u001b[38;5;241;43m*\u001b[39;49m\u001b[43mkwargs\u001b[49m\u001b[43m)\u001b[49m\n\u001b[0;32m    151\u001b[0m \u001b[38;5;28;01mexcept\u001b[39;00m \u001b[38;5;167;01mException\u001b[39;00m \u001b[38;5;28;01mas\u001b[39;00m e:\n\u001b[0;32m    152\u001b[0m   filtered_tb \u001b[38;5;241m=\u001b[39m _process_traceback_frames(e\u001b[38;5;241m.\u001b[39m__traceback__)\n",
            "File \u001b[1;32m~\\AppData\\Roaming\\Python\\Python311\\site-packages\\tensorflow\\python\\eager\\polymorphic_function\\polymorphic_function.py:832\u001b[0m, in \u001b[0;36mFunction.__call__\u001b[1;34m(self, *args, **kwds)\u001b[0m\n\u001b[0;32m    829\u001b[0m compiler \u001b[38;5;241m=\u001b[39m \u001b[38;5;124m\"\u001b[39m\u001b[38;5;124mxla\u001b[39m\u001b[38;5;124m\"\u001b[39m \u001b[38;5;28;01mif\u001b[39;00m \u001b[38;5;28mself\u001b[39m\u001b[38;5;241m.\u001b[39m_jit_compile \u001b[38;5;28;01melse\u001b[39;00m \u001b[38;5;124m\"\u001b[39m\u001b[38;5;124mnonXla\u001b[39m\u001b[38;5;124m\"\u001b[39m\n\u001b[0;32m    831\u001b[0m \u001b[38;5;28;01mwith\u001b[39;00m OptionalXlaContext(\u001b[38;5;28mself\u001b[39m\u001b[38;5;241m.\u001b[39m_jit_compile):\n\u001b[1;32m--> 832\u001b[0m   result \u001b[38;5;241m=\u001b[39m \u001b[38;5;28;43mself\u001b[39;49m\u001b[38;5;241;43m.\u001b[39;49m\u001b[43m_call\u001b[49m\u001b[43m(\u001b[49m\u001b[38;5;241;43m*\u001b[39;49m\u001b[43margs\u001b[49m\u001b[43m,\u001b[49m\u001b[43m \u001b[49m\u001b[38;5;241;43m*\u001b[39;49m\u001b[38;5;241;43m*\u001b[39;49m\u001b[43mkwds\u001b[49m\u001b[43m)\u001b[49m\n\u001b[0;32m    834\u001b[0m new_tracing_count \u001b[38;5;241m=\u001b[39m \u001b[38;5;28mself\u001b[39m\u001b[38;5;241m.\u001b[39mexperimental_get_tracing_count()\n\u001b[0;32m    835\u001b[0m without_tracing \u001b[38;5;241m=\u001b[39m (tracing_count \u001b[38;5;241m==\u001b[39m new_tracing_count)\n",
            "File \u001b[1;32m~\\AppData\\Roaming\\Python\\Python311\\site-packages\\tensorflow\\python\\eager\\polymorphic_function\\polymorphic_function.py:877\u001b[0m, in \u001b[0;36mFunction._call\u001b[1;34m(self, *args, **kwds)\u001b[0m\n\u001b[0;32m    874\u001b[0m \u001b[38;5;28mself\u001b[39m\u001b[38;5;241m.\u001b[39m_lock\u001b[38;5;241m.\u001b[39mrelease()\n\u001b[0;32m    875\u001b[0m \u001b[38;5;66;03m# In this case we have not created variables on the first call. So we can\u001b[39;00m\n\u001b[0;32m    876\u001b[0m \u001b[38;5;66;03m# run the first trace but we should fail if variables are created.\u001b[39;00m\n\u001b[1;32m--> 877\u001b[0m results \u001b[38;5;241m=\u001b[39m \u001b[43mtracing_compilation\u001b[49m\u001b[38;5;241;43m.\u001b[39;49m\u001b[43mcall_function\u001b[49m\u001b[43m(\u001b[49m\n\u001b[0;32m    878\u001b[0m \u001b[43m    \u001b[49m\u001b[43margs\u001b[49m\u001b[43m,\u001b[49m\u001b[43m \u001b[49m\u001b[43mkwds\u001b[49m\u001b[43m,\u001b[49m\u001b[43m \u001b[49m\u001b[38;5;28;43mself\u001b[39;49m\u001b[38;5;241;43m.\u001b[39;49m\u001b[43m_variable_creation_config\u001b[49m\n\u001b[0;32m    879\u001b[0m \u001b[43m\u001b[49m\u001b[43m)\u001b[49m\n\u001b[0;32m    880\u001b[0m \u001b[38;5;28;01mif\u001b[39;00m \u001b[38;5;28mself\u001b[39m\u001b[38;5;241m.\u001b[39m_created_variables:\n\u001b[0;32m    881\u001b[0m   \u001b[38;5;28;01mraise\u001b[39;00m \u001b[38;5;167;01mValueError\u001b[39;00m(\u001b[38;5;124m\"\u001b[39m\u001b[38;5;124mCreating variables on a non-first call to a function\u001b[39m\u001b[38;5;124m\"\u001b[39m\n\u001b[0;32m    882\u001b[0m                    \u001b[38;5;124m\"\u001b[39m\u001b[38;5;124m decorated with tf.function.\u001b[39m\u001b[38;5;124m\"\u001b[39m)\n",
            "File \u001b[1;32m~\\AppData\\Roaming\\Python\\Python311\\site-packages\\tensorflow\\python\\eager\\polymorphic_function\\tracing_compilation.py:139\u001b[0m, in \u001b[0;36mcall_function\u001b[1;34m(args, kwargs, tracing_options)\u001b[0m\n\u001b[0;32m    137\u001b[0m bound_args \u001b[38;5;241m=\u001b[39m function\u001b[38;5;241m.\u001b[39mfunction_type\u001b[38;5;241m.\u001b[39mbind(\u001b[38;5;241m*\u001b[39margs, \u001b[38;5;241m*\u001b[39m\u001b[38;5;241m*\u001b[39mkwargs)\n\u001b[0;32m    138\u001b[0m flat_inputs \u001b[38;5;241m=\u001b[39m function\u001b[38;5;241m.\u001b[39mfunction_type\u001b[38;5;241m.\u001b[39munpack_inputs(bound_args)\n\u001b[1;32m--> 139\u001b[0m \u001b[38;5;28;01mreturn\u001b[39;00m \u001b[43mfunction\u001b[49m\u001b[38;5;241;43m.\u001b[39;49m\u001b[43m_call_flat\u001b[49m\u001b[43m(\u001b[49m\u001b[43m  \u001b[49m\u001b[38;5;66;43;03m# pylint: disable=protected-access\u001b[39;49;00m\n\u001b[0;32m    140\u001b[0m \u001b[43m    \u001b[49m\u001b[43mflat_inputs\u001b[49m\u001b[43m,\u001b[49m\u001b[43m \u001b[49m\u001b[43mcaptured_inputs\u001b[49m\u001b[38;5;241;43m=\u001b[39;49m\u001b[43mfunction\u001b[49m\u001b[38;5;241;43m.\u001b[39;49m\u001b[43mcaptured_inputs\u001b[49m\n\u001b[0;32m    141\u001b[0m \u001b[43m\u001b[49m\u001b[43m)\u001b[49m\n",
            "File \u001b[1;32m~\\AppData\\Roaming\\Python\\Python311\\site-packages\\tensorflow\\python\\eager\\polymorphic_function\\concrete_function.py:1323\u001b[0m, in \u001b[0;36mConcreteFunction._call_flat\u001b[1;34m(self, tensor_inputs, captured_inputs)\u001b[0m\n\u001b[0;32m   1319\u001b[0m possible_gradient_type \u001b[38;5;241m=\u001b[39m gradients_util\u001b[38;5;241m.\u001b[39mPossibleTapeGradientTypes(args)\n\u001b[0;32m   1320\u001b[0m \u001b[38;5;28;01mif\u001b[39;00m (possible_gradient_type \u001b[38;5;241m==\u001b[39m gradients_util\u001b[38;5;241m.\u001b[39mPOSSIBLE_GRADIENT_TYPES_NONE\n\u001b[0;32m   1321\u001b[0m     \u001b[38;5;129;01mand\u001b[39;00m executing_eagerly):\n\u001b[0;32m   1322\u001b[0m   \u001b[38;5;66;03m# No tape is watching; skip to running the function.\u001b[39;00m\n\u001b[1;32m-> 1323\u001b[0m   \u001b[38;5;28;01mreturn\u001b[39;00m \u001b[38;5;28;43mself\u001b[39;49m\u001b[38;5;241;43m.\u001b[39;49m\u001b[43m_inference_function\u001b[49m\u001b[38;5;241;43m.\u001b[39;49m\u001b[43mcall_preflattened\u001b[49m\u001b[43m(\u001b[49m\u001b[43margs\u001b[49m\u001b[43m)\u001b[49m\n\u001b[0;32m   1324\u001b[0m forward_backward \u001b[38;5;241m=\u001b[39m \u001b[38;5;28mself\u001b[39m\u001b[38;5;241m.\u001b[39m_select_forward_and_backward_functions(\n\u001b[0;32m   1325\u001b[0m     args,\n\u001b[0;32m   1326\u001b[0m     possible_gradient_type,\n\u001b[0;32m   1327\u001b[0m     executing_eagerly)\n\u001b[0;32m   1328\u001b[0m forward_function, args_with_tangents \u001b[38;5;241m=\u001b[39m forward_backward\u001b[38;5;241m.\u001b[39mforward()\n",
            "File \u001b[1;32m~\\AppData\\Roaming\\Python\\Python311\\site-packages\\tensorflow\\python\\eager\\polymorphic_function\\atomic_function.py:216\u001b[0m, in \u001b[0;36mAtomicFunction.call_preflattened\u001b[1;34m(self, args)\u001b[0m\n\u001b[0;32m    214\u001b[0m \u001b[38;5;28;01mdef\u001b[39;00m \u001b[38;5;21mcall_preflattened\u001b[39m(\u001b[38;5;28mself\u001b[39m, args: Sequence[core\u001b[38;5;241m.\u001b[39mTensor]) \u001b[38;5;241m-\u001b[39m\u001b[38;5;241m>\u001b[39m Any:\n\u001b[0;32m    215\u001b[0m \u001b[38;5;250m  \u001b[39m\u001b[38;5;124;03m\"\"\"Calls with flattened tensor inputs and returns the structured output.\"\"\"\u001b[39;00m\n\u001b[1;32m--> 216\u001b[0m   flat_outputs \u001b[38;5;241m=\u001b[39m \u001b[38;5;28;43mself\u001b[39;49m\u001b[38;5;241;43m.\u001b[39;49m\u001b[43mcall_flat\u001b[49m\u001b[43m(\u001b[49m\u001b[38;5;241;43m*\u001b[39;49m\u001b[43margs\u001b[49m\u001b[43m)\u001b[49m\n\u001b[0;32m    217\u001b[0m   \u001b[38;5;28;01mreturn\u001b[39;00m \u001b[38;5;28mself\u001b[39m\u001b[38;5;241m.\u001b[39mfunction_type\u001b[38;5;241m.\u001b[39mpack_output(flat_outputs)\n",
            "File \u001b[1;32m~\\AppData\\Roaming\\Python\\Python311\\site-packages\\tensorflow\\python\\eager\\polymorphic_function\\atomic_function.py:251\u001b[0m, in \u001b[0;36mAtomicFunction.call_flat\u001b[1;34m(self, *args)\u001b[0m\n\u001b[0;32m    249\u001b[0m \u001b[38;5;28;01mwith\u001b[39;00m record\u001b[38;5;241m.\u001b[39mstop_recording():\n\u001b[0;32m    250\u001b[0m   \u001b[38;5;28;01mif\u001b[39;00m \u001b[38;5;28mself\u001b[39m\u001b[38;5;241m.\u001b[39m_bound_context\u001b[38;5;241m.\u001b[39mexecuting_eagerly():\n\u001b[1;32m--> 251\u001b[0m     outputs \u001b[38;5;241m=\u001b[39m \u001b[38;5;28;43mself\u001b[39;49m\u001b[38;5;241;43m.\u001b[39;49m\u001b[43m_bound_context\u001b[49m\u001b[38;5;241;43m.\u001b[39;49m\u001b[43mcall_function\u001b[49m\u001b[43m(\u001b[49m\n\u001b[0;32m    252\u001b[0m \u001b[43m        \u001b[49m\u001b[38;5;28;43mself\u001b[39;49m\u001b[38;5;241;43m.\u001b[39;49m\u001b[43mname\u001b[49m\u001b[43m,\u001b[49m\n\u001b[0;32m    253\u001b[0m \u001b[43m        \u001b[49m\u001b[38;5;28;43mlist\u001b[39;49m\u001b[43m(\u001b[49m\u001b[43margs\u001b[49m\u001b[43m)\u001b[49m\u001b[43m,\u001b[49m\n\u001b[0;32m    254\u001b[0m \u001b[43m        \u001b[49m\u001b[38;5;28;43mlen\u001b[39;49m\u001b[43m(\u001b[49m\u001b[38;5;28;43mself\u001b[39;49m\u001b[38;5;241;43m.\u001b[39;49m\u001b[43mfunction_type\u001b[49m\u001b[38;5;241;43m.\u001b[39;49m\u001b[43mflat_outputs\u001b[49m\u001b[43m)\u001b[49m\u001b[43m,\u001b[49m\n\u001b[0;32m    255\u001b[0m \u001b[43m    \u001b[49m\u001b[43m)\u001b[49m\n\u001b[0;32m    256\u001b[0m   \u001b[38;5;28;01melse\u001b[39;00m:\n\u001b[0;32m    257\u001b[0m     outputs \u001b[38;5;241m=\u001b[39m make_call_op_in_graph(\n\u001b[0;32m    258\u001b[0m         \u001b[38;5;28mself\u001b[39m,\n\u001b[0;32m    259\u001b[0m         \u001b[38;5;28mlist\u001b[39m(args),\n\u001b[0;32m    260\u001b[0m         \u001b[38;5;28mself\u001b[39m\u001b[38;5;241m.\u001b[39m_bound_context\u001b[38;5;241m.\u001b[39mfunction_call_options\u001b[38;5;241m.\u001b[39mas_attrs(),\n\u001b[0;32m    261\u001b[0m     )\n",
            "File \u001b[1;32m~\\AppData\\Roaming\\Python\\Python311\\site-packages\\tensorflow\\python\\eager\\context.py:1486\u001b[0m, in \u001b[0;36mContext.call_function\u001b[1;34m(self, name, tensor_inputs, num_outputs)\u001b[0m\n\u001b[0;32m   1484\u001b[0m cancellation_context \u001b[38;5;241m=\u001b[39m cancellation\u001b[38;5;241m.\u001b[39mcontext()\n\u001b[0;32m   1485\u001b[0m \u001b[38;5;28;01mif\u001b[39;00m cancellation_context \u001b[38;5;129;01mis\u001b[39;00m \u001b[38;5;28;01mNone\u001b[39;00m:\n\u001b[1;32m-> 1486\u001b[0m   outputs \u001b[38;5;241m=\u001b[39m \u001b[43mexecute\u001b[49m\u001b[38;5;241;43m.\u001b[39;49m\u001b[43mexecute\u001b[49m\u001b[43m(\u001b[49m\n\u001b[0;32m   1487\u001b[0m \u001b[43m      \u001b[49m\u001b[43mname\u001b[49m\u001b[38;5;241;43m.\u001b[39;49m\u001b[43mdecode\u001b[49m\u001b[43m(\u001b[49m\u001b[38;5;124;43m\"\u001b[39;49m\u001b[38;5;124;43mutf-8\u001b[39;49m\u001b[38;5;124;43m\"\u001b[39;49m\u001b[43m)\u001b[49m\u001b[43m,\u001b[49m\n\u001b[0;32m   1488\u001b[0m \u001b[43m      \u001b[49m\u001b[43mnum_outputs\u001b[49m\u001b[38;5;241;43m=\u001b[39;49m\u001b[43mnum_outputs\u001b[49m\u001b[43m,\u001b[49m\n\u001b[0;32m   1489\u001b[0m \u001b[43m      \u001b[49m\u001b[43minputs\u001b[49m\u001b[38;5;241;43m=\u001b[39;49m\u001b[43mtensor_inputs\u001b[49m\u001b[43m,\u001b[49m\n\u001b[0;32m   1490\u001b[0m \u001b[43m      \u001b[49m\u001b[43mattrs\u001b[49m\u001b[38;5;241;43m=\u001b[39;49m\u001b[43mattrs\u001b[49m\u001b[43m,\u001b[49m\n\u001b[0;32m   1491\u001b[0m \u001b[43m      \u001b[49m\u001b[43mctx\u001b[49m\u001b[38;5;241;43m=\u001b[39;49m\u001b[38;5;28;43mself\u001b[39;49m\u001b[43m,\u001b[49m\n\u001b[0;32m   1492\u001b[0m \u001b[43m  \u001b[49m\u001b[43m)\u001b[49m\n\u001b[0;32m   1493\u001b[0m \u001b[38;5;28;01melse\u001b[39;00m:\n\u001b[0;32m   1494\u001b[0m   outputs \u001b[38;5;241m=\u001b[39m execute\u001b[38;5;241m.\u001b[39mexecute_with_cancellation(\n\u001b[0;32m   1495\u001b[0m       name\u001b[38;5;241m.\u001b[39mdecode(\u001b[38;5;124m\"\u001b[39m\u001b[38;5;124mutf-8\u001b[39m\u001b[38;5;124m\"\u001b[39m),\n\u001b[0;32m   1496\u001b[0m       num_outputs\u001b[38;5;241m=\u001b[39mnum_outputs,\n\u001b[1;32m   (...)\u001b[0m\n\u001b[0;32m   1500\u001b[0m       cancellation_manager\u001b[38;5;241m=\u001b[39mcancellation_context,\n\u001b[0;32m   1501\u001b[0m   )\n",
            "File \u001b[1;32m~\\AppData\\Roaming\\Python\\Python311\\site-packages\\tensorflow\\python\\eager\\execute.py:53\u001b[0m, in \u001b[0;36mquick_execute\u001b[1;34m(op_name, num_outputs, inputs, attrs, ctx, name)\u001b[0m\n\u001b[0;32m     51\u001b[0m \u001b[38;5;28;01mtry\u001b[39;00m:\n\u001b[0;32m     52\u001b[0m   ctx\u001b[38;5;241m.\u001b[39mensure_initialized()\n\u001b[1;32m---> 53\u001b[0m   tensors \u001b[38;5;241m=\u001b[39m \u001b[43mpywrap_tfe\u001b[49m\u001b[38;5;241;43m.\u001b[39;49m\u001b[43mTFE_Py_Execute\u001b[49m\u001b[43m(\u001b[49m\u001b[43mctx\u001b[49m\u001b[38;5;241;43m.\u001b[39;49m\u001b[43m_handle\u001b[49m\u001b[43m,\u001b[49m\u001b[43m \u001b[49m\u001b[43mdevice_name\u001b[49m\u001b[43m,\u001b[49m\u001b[43m \u001b[49m\u001b[43mop_name\u001b[49m\u001b[43m,\u001b[49m\n\u001b[0;32m     54\u001b[0m \u001b[43m                                      \u001b[49m\u001b[43minputs\u001b[49m\u001b[43m,\u001b[49m\u001b[43m \u001b[49m\u001b[43mattrs\u001b[49m\u001b[43m,\u001b[49m\u001b[43m \u001b[49m\u001b[43mnum_outputs\u001b[49m\u001b[43m)\u001b[49m\n\u001b[0;32m     55\u001b[0m \u001b[38;5;28;01mexcept\u001b[39;00m core\u001b[38;5;241m.\u001b[39m_NotOkStatusException \u001b[38;5;28;01mas\u001b[39;00m e:\n\u001b[0;32m     56\u001b[0m   \u001b[38;5;28;01mif\u001b[39;00m name \u001b[38;5;129;01mis\u001b[39;00m \u001b[38;5;129;01mnot\u001b[39;00m \u001b[38;5;28;01mNone\u001b[39;00m:\n",
            "\u001b[1;31mKeyboardInterrupt\u001b[0m: "
          ]
        }
      ],
      "source": [
        "from tensorflow.keras.optimizers import Adam\n",
        "from tensorflow.keras.callbacks import ReduceLROnPlateau, EarlyStopping\n",
        "\n",
        "age_model3.compile(optimizer=Adam(learning_rate=0.001),\n",
        "                  loss='categorical_crossentropy',\n",
        "                  metrics=['accuracy'])\n",
        "\n",
        "reduce_lr = ReduceLROnPlateau(monitor='val_loss', factor=0.2, patience=5, min_lr=0.00001)\n",
        "early_stop = EarlyStopping(monitor='val_loss', patience=10, restore_best_weights=True)\n",
        "\n",
        "history_age3 = age_model3.fit(\n",
        "    train_dataset,\n",
        "    validation_data=test_dataset,\n",
        "    epochs=50,\n",
        "    callbacks=[reduce_lr, early_stop]\n",
        ")\n",
        "\n",
        "age_model3.save('age_model3_50.h5')\n"
      ]
    },
    {
      "cell_type": "code",
      "execution_count": 15,
      "metadata": {},
      "outputs": [
        {
          "ename": "NameError",
          "evalue": "name 'history_age3' is not defined",
          "output_type": "error",
          "traceback": [
            "\u001b[1;31m---------------------------------------------------------------------------\u001b[0m",
            "\u001b[1;31mNameError\u001b[0m                                 Traceback (most recent call last)",
            "Cell \u001b[1;32mIn[15], line 1\u001b[0m\n\u001b[1;32m----> 1\u001b[0m history \u001b[38;5;241m=\u001b[39m \u001b[43mhistory_age3\u001b[49m\n\u001b[0;32m      2\u001b[0m \u001b[38;5;66;03m# Получаем данные обучения из history\u001b[39;00m\n\u001b[0;32m      3\u001b[0m acc \u001b[38;5;241m=\u001b[39m history\u001b[38;5;241m.\u001b[39mhistory[\u001b[38;5;124m'\u001b[39m\u001b[38;5;124maccuracy\u001b[39m\u001b[38;5;124m'\u001b[39m]\n",
            "\u001b[1;31mNameError\u001b[0m: name 'history_age3' is not defined"
          ]
        }
      ],
      "source": [
        "history = history_age3\n",
        "# Получаем данные обучения из history\n",
        "acc = history.history['accuracy']\n",
        "val_acc = history.history['val_accuracy']\n",
        "loss = history.history['loss']\n",
        "val_loss = history.history['val_loss']\n",
        "epochs = range(1, len(acc) + 1)\n",
        "\n",
        "# Строим график точности\n",
        "plt.figure(figsize=(12, 6))\n",
        "plt.subplot(1, 2, 1)\n",
        "plt.plot(epochs, acc, 'bo', label='Training acc')\n",
        "plt.plot(epochs, val_acc, 'b', label='Validation acc')\n",
        "plt.title('Training and validation accuracy')\n",
        "plt.xlabel('Epochs')\n",
        "plt.ylabel('Accuracy')\n",
        "plt.legend()\n",
        "\n",
        "# Строим график потерь\n",
        "plt.subplot(1, 2, 2)\n",
        "plt.plot(epochs, loss, 'bo', label='Training loss')\n",
        "plt.plot(epochs, val_loss, 'b', label='Validation loss')\n",
        "plt.title('Training and validation loss')\n",
        "plt.xlabel('Epochs')\n",
        "plt.ylabel('Loss')\n",
        "plt.legend()\n"
      ]
    },
    {
      "cell_type": "markdown",
      "metadata": {
        "id": "xsdLXPQEw-S-"
      },
      "source": [
        "*для гугл колаба, сохраняем модель в гугл диск, чтобы не потерять ее из-за окончания сессии"
      ]
    },
    {
      "cell_type": "code",
      "execution_count": null,
      "metadata": {
        "colab": {
          "base_uri": "https://localhost:8080/"
        },
        "id": "2V-GKp-Tw9ZY",
        "outputId": "e6db8819-c964-49b6-be95-27b8ac8d1891"
      },
      "outputs": [
        {
          "name": "stdout",
          "output_type": "stream",
          "text": [
            "Drive already mounted at /content/drive; to attempt to forcibly remount, call drive.mount(\"/content/drive\", force_remount=True).\n"
          ]
        }
      ],
      "source": [
        "from google.colab import drive\n",
        "drive.mount('/content/drive')\n",
        "age_model3.save('/content/drive/MyDrive/age_model3.h5')\n"
      ]
    }
  ],
  "metadata": {
    "accelerator": "GPU",
    "colab": {
      "gpuType": "T4",
      "provenance": []
    },
    "kernelspec": {
      "display_name": "Python 3",
      "name": "python3"
    },
    "language_info": {
      "codemirror_mode": {
        "name": "ipython",
        "version": 3
      },
      "file_extension": ".py",
      "mimetype": "text/x-python",
      "name": "python",
      "nbconvert_exporter": "python",
      "pygments_lexer": "ipython3",
      "version": "3.11.5"
    }
  },
  "nbformat": 4,
  "nbformat_minor": 0
}
